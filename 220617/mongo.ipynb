{
 "cells": [
  {
   "cell_type": "markdown",
   "metadata": {},
   "source": [
    "### mongoDB\n",
    "1. mongoDB 사용하려면 라이브러리 pymongo"
   ]
  },
  {
   "cell_type": "code",
   "execution_count": 1,
   "metadata": {},
   "outputs": [
    {
     "name": "stdout",
     "output_type": "stream",
     "text": [
      "Collecting pymongo\n",
      "  Downloading pymongo-4.1.1-cp36-cp36m-win_amd64.whl (368 kB)\n",
      "Installing collected packages: pymongo\n",
      "Successfully installed pymongo-4.1.1\n",
      "Note: you may need to restart the kernel to use updated packages.\n"
     ]
    }
   ],
   "source": [
    "pip install pymongo"
   ]
  },
  {
   "cell_type": "code",
   "execution_count": 3,
   "metadata": {},
   "outputs": [],
   "source": [
    "from pymongo import MongoClient\n",
    "import pprint"
   ]
  },
  {
   "cell_type": "code",
   "execution_count": 4,
   "metadata": {},
   "outputs": [],
   "source": [
    "client = MongoClient(\n",
    "    host = 'localhost', \n",
    "    port = 27017\n",
    ")"
   ]
  },
  {
   "cell_type": "code",
   "execution_count": 5,
   "metadata": {},
   "outputs": [
    {
     "data": {
      "text/plain": [
       "['admin', 'config', 'local', 'ubion']"
      ]
     },
     "execution_count": 5,
     "metadata": {},
     "output_type": "execute_result"
    }
   ],
   "source": [
    "## mongoDB Database 목록 출력\n",
    "client.list_database_names()"
   ]
  },
  {
   "cell_type": "code",
   "execution_count": 6,
   "metadata": {},
   "outputs": [],
   "source": [
    "# 데이터베이스에 접근\n",
    "db = client[\"ubion\"]"
   ]
  },
  {
   "cell_type": "code",
   "execution_count": 7,
   "metadata": {},
   "outputs": [],
   "source": [
    "# 콜렉션 접근\n",
    "collection = db[\"test\"]"
   ]
  },
  {
   "cell_type": "code",
   "execution_count": 11,
   "metadata": {},
   "outputs": [
    {
     "data": {
      "text/plain": [
       "{'_id': ObjectId('62ac05e9c60af933edb835c2'),\n",
       " 'loc': 'NewYork',\n",
       " 'deptno': 20.0,\n",
       " 'dname': 'sales'}"
      ]
     },
     "execution_count": 11,
     "metadata": {},
     "output_type": "execute_result"
    }
   ],
   "source": [
    "# 데이터 확인\n",
    "collection.find_one()"
   ]
  },
  {
   "cell_type": "code",
   "execution_count": 29,
   "metadata": {},
   "outputs": [
    {
     "data": {
      "text/plain": [
       "[{'_id': ObjectId('62ac11c2b036ba5650c764cb'),\n",
       "  'name': 'test',\n",
       "  'loc': 'sinlim'},\n",
       " {'_id': ObjectId('62ac11ceb036ba5650c764cc'),\n",
       "  'name': 'test',\n",
       "  'loc': 'sinlim'},\n",
       " {'_id': ObjectId('62ac124eb036ba5650c764cd'),\n",
       "  'name': 'test',\n",
       "  'loc': 'sinlim'},\n",
       " {'_id': ObjectId('62ac1257b036ba5650c764ce'),\n",
       "  'name': 'test',\n",
       "  'loc': 'sinlim'},\n",
       " {'_id': ObjectId('62ac127ab036ba5650c764cf'),\n",
       "  'name': 'test',\n",
       "  'loc': 'sinlim'}]"
      ]
     },
     "execution_count": 29,
     "metadata": {},
     "output_type": "execute_result"
    }
   ],
   "source": [
    "## find() 데이터의 형태를 list로 출력\n",
    "result = list(collection.find({\"name\" : \"test\"}))\n",
    "result"
   ]
  },
  {
   "cell_type": "code",
   "execution_count": 25,
   "metadata": {},
   "outputs": [],
   "source": [
    "# insert\n",
    "data = {\n",
    "    \"name\" : \"test\",\n",
    "    \"loc\" : \"sinlim\"\n",
    "}\n",
    "_id = collection.insert_one(data).inserted_id"
   ]
  },
  {
   "cell_type": "code",
   "execution_count": 26,
   "metadata": {},
   "outputs": [
    {
     "data": {
      "text/plain": [
       "[{'_id': ObjectId('62ac127ab036ba5650c764cf'),\n",
       "  'name': 'test',\n",
       "  'loc': 'sinlim'}]"
      ]
     },
     "execution_count": 26,
     "metadata": {},
     "output_type": "execute_result"
    }
   ],
   "source": [
    "list(collection.find({\"_id\":_id}))"
   ]
  },
  {
   "cell_type": "code",
   "execution_count": 27,
   "metadata": {},
   "outputs": [
    {
     "data": {
      "text/plain": [
       "[{'_id': ObjectId('62ac05e9c60af933edb835c2'),\n",
       "  'loc': 'NewYork',\n",
       "  'deptno': 20.0,\n",
       "  'dname': 'sales'},\n",
       " {'_id': ObjectId('62ac077bc60af933edb835c3'),\n",
       "  'name': 'test2',\n",
       "  'loc': 'Dallas'},\n",
       " {'_id': ObjectId('62ac077bc60af933edb835c4'), 'phone': '01098765432'},\n",
       " {'_id': ObjectId('62ac11c2b036ba5650c764cb'),\n",
       "  'name': 'test',\n",
       "  'loc': 'sinlim'},\n",
       " {'_id': ObjectId('62ac11ceb036ba5650c764cc'),\n",
       "  'name': 'test',\n",
       "  'loc': 'sinlim'},\n",
       " {'_id': ObjectId('62ac124eb036ba5650c764cd'),\n",
       "  'name': 'test',\n",
       "  'loc': 'sinlim'},\n",
       " {'_id': ObjectId('62ac1257b036ba5650c764ce'),\n",
       "  'name': 'test',\n",
       "  'loc': 'sinlim'},\n",
       " {'_id': ObjectId('62ac127ab036ba5650c764cf'),\n",
       "  'name': 'test',\n",
       "  'loc': 'sinlim'}]"
      ]
     },
     "execution_count": 27,
     "metadata": {},
     "output_type": "execute_result"
    }
   ],
   "source": [
    "list(collection.find().sort(\"_id\"))"
   ]
  },
  {
   "cell_type": "code",
   "execution_count": 28,
   "metadata": {},
   "outputs": [
    {
     "data": {
      "text/plain": [
       "<pymongo.results.InsertManyResult at 0x1d63933af28>"
      ]
     },
     "execution_count": 28,
     "metadata": {},
     "output_type": "execute_result"
    }
   ],
   "source": [
    "## insert_many()\n",
    "data = [\n",
    "    {\n",
    "        \"phone\" : \"01011112222\",\n",
    "        \"age\" : 30\n",
    "    }, \n",
    "    {\n",
    "        \"password\" : \"a1s2d3\",\n",
    "        \"id\" : \"admin\"\n",
    "    }\n",
    "]\n",
    "\n",
    "collection.insert_many(data)"
   ]
  },
  {
   "cell_type": "code",
   "execution_count": 31,
   "metadata": {},
   "outputs": [
    {
     "data": {
      "text/plain": [
       "<pymongo.results.UpdateResult at 0x1d639108ef0>"
      ]
     },
     "execution_count": 31,
     "metadata": {},
     "output_type": "execute_result"
    }
   ],
   "source": [
    "collection.update_one(\n",
    "    {\n",
    "        \"name\": \"test\"\n",
    "    },\n",
    "    {\n",
    "        \"$set\":{\n",
    "            \"loc\" : \"NewYork\"\n",
    "        }\n",
    "    }\n",
    ")"
   ]
  },
  {
   "cell_type": "code",
   "execution_count": null,
   "metadata": {},
   "outputs": [],
   "source": [
    "list(collection.find({\"name\" : \"test\"}))"
   ]
  },
  {
   "cell_type": "code",
   "execution_count": null,
   "metadata": {},
   "outputs": [],
   "source": [
    "collection.update_many(\n",
    "    {\n",
    "        \"name\": \"test\"\n",
    "    },\n",
    "    {\n",
    "        \"$set\":{\n",
    "            \"loc\" : \"NewYork\"\n",
    "        }\n",
    "    }\n",
    ")"
   ]
  },
  {
   "cell_type": "code",
   "execution_count": null,
   "metadata": {},
   "outputs": [],
   "source": [
    "list(collection.find({\"name\" : \"test\"}))"
   ]
  },
  {
   "cell_type": "code",
   "execution_count": 37,
   "metadata": {},
   "outputs": [
    {
     "data": {
      "text/plain": [
       "<pymongo.results.DeleteResult at 0x1d63934a160>"
      ]
     },
     "execution_count": 37,
     "metadata": {},
     "output_type": "execute_result"
    }
   ],
   "source": [
    "# remove(cmd)였던 document 삭제기능이 pymongo에서는 delete()\n",
    "collection.delete_one(\n",
    "    {\n",
    "        \"name\" : \"test\"\n",
    "    }\n",
    ")"
   ]
  },
  {
   "cell_type": "code",
   "execution_count": 38,
   "metadata": {},
   "outputs": [
    {
     "data": {
      "text/plain": [
       "[{'_id': ObjectId('62ac124eb036ba5650c764cd'),\n",
       "  'name': 'test',\n",
       "  'loc': 'NewYork'},\n",
       " {'_id': ObjectId('62ac1257b036ba5650c764ce'),\n",
       "  'name': 'test',\n",
       "  'loc': 'NewYork'},\n",
       " {'_id': ObjectId('62ac127ab036ba5650c764cf'),\n",
       "  'name': 'test',\n",
       "  'loc': 'NewYork'}]"
      ]
     },
     "execution_count": 38,
     "metadata": {},
     "output_type": "execute_result"
    }
   ],
   "source": [
    "list(collection.find({\n",
    "    \"name\" : \"test\"\n",
    "}))"
   ]
  },
  {
   "cell_type": "code",
   "execution_count": 39,
   "metadata": {},
   "outputs": [
    {
     "data": {
      "text/plain": [
       "<pymongo.results.DeleteResult at 0x1d63935afd0>"
      ]
     },
     "execution_count": 39,
     "metadata": {},
     "output_type": "execute_result"
    }
   ],
   "source": [
    "collection.delete_many({\n",
    "    \"name\": \"test\"\n",
    "})"
   ]
  },
  {
   "cell_type": "code",
   "execution_count": 41,
   "metadata": {},
   "outputs": [
    {
     "data": {
      "text/plain": [
       "[]"
      ]
     },
     "execution_count": 41,
     "metadata": {},
     "output_type": "execute_result"
    }
   ],
   "source": [
    "list(collection.find({\n",
    "    \"name\" : \"test\"\n",
    "}))"
   ]
  },
  {
   "cell_type": "code",
   "execution_count": null,
   "metadata": {},
   "outputs": [],
   "source": [
    "db.people.find() - SELECT * FROM people\n",
    "db.people.find({ }, { user_id: 1, status: 1 }) - SELECT _id, user_id, status FROM people\n",
    "db.people.find({ },{ user_id: 1, status: 1, _id: 0 }) - SELECT user_id, status FROM people\n",
    "db.people.find({ status: \"A\" }) - SELECT * FROM people WHERE status = \"A\"\n",
    "db.people.find({ status: \"A\", age: 50 }) - SELECT * FROM people WHERE status = \"A\" AND age = 50\n",
    "db.people.find({ $or: [ { status: \"A\" } , { age: 50 } ] }) - SELECT * FROM people WHERE status = \"A\" OR age = 50\n",
    "\n",
    "db.people.find({ age: { $gt: 25 } }) - SELECT * FROM people WHERE age > 25\n",
    "db.people.find({ age: { $lt: 25 } }) - SELECT * FROM people WHERE age < 25\n",
    "db.people.find({ age: { $gt: 25, $lte: 50 } }) - SELECT * FROM people WHERE age > 25 AND age <= 50\n",
    "db.people.find( { user_id: /bc/ } )\n",
    "db.people.find( { user_id: { $regex: /bc/ } } )\n",
    "                                                  - SELECT * FROM people WHERE user_id like \"%bc%\"\n",
    "db.people.find( { user_id: /^bc/ } )\n",
    "db.people.find( { user_id: { $regex: /^bc/ } } )\n",
    "                                                  - SELECT * FROM people WHERE user_id like \"bc%\"\n",
    "db.people.find( { status: \"A\" } ).sort( { user_id: 1 } ) - SELECT * FROM people WHERE status = \"A\" ORDER BY user_id ASC \n",
    "db.people.find( { status: \"A\" } ).sort( { user_id: -1 } ) - SELECT * FROM people WHERE status = \"A\" ORDER BY user_id DESC\n",
    "db.people.count()\n",
    "db.people.find().count()\n",
    "                                                  - SELECT COUNT(*) FROM people\n",
    "db.people.count( { user_id: { $exists: true } } )\n",
    "db.people.find( { user_id: { $exists: true } } ).count()\n",
    "                                                  - SELECT COUNT(user_id) FROM people\n",
    "db.people.count( { age: { $gt: 30 } } )\n",
    "db.people.find( { age: { $gt: 30 } } ).count()\n",
    "                                                  - SELECT COUNT(*) FROM people WHERE age > 30\n",
    "db.people.distinct( \"status\" ) - SELECT DISTINCT(status) FROM people\n",
    "db.people.findOne()\n",
    "db.people.find().limit(1)\n",
    "                                                  - SELECT * FROM people LIMIT 1c"
   ]
  }
 ],
 "metadata": {
  "kernelspec": {
   "display_name": "Python 3.6.8 64-bit",
   "language": "python",
   "name": "python3"
  },
  "language_info": {
   "codemirror_mode": {
    "name": "ipython",
    "version": 3
   },
   "file_extension": ".py",
   "mimetype": "text/x-python",
   "name": "python",
   "nbconvert_exporter": "python",
   "pygments_lexer": "ipython3",
   "version": "3.6.8"
  },
  "orig_nbformat": 4,
  "vscode": {
   "interpreter": {
    "hash": "187f19b7e1a6c9dce315ccb3b0d07c5b7aeed6681cd1ee8ee772db2198b62651"
   }
  }
 },
 "nbformat": 4,
 "nbformat_minor": 2
}
