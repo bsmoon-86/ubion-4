{
 "cells": [
  {
   "cell_type": "code",
   "execution_count": 1,
   "metadata": {},
   "outputs": [],
   "source": [
    "import pandas as pd\n",
    "import matplotlib.pyplot as plt\n",
    "import os"
   ]
  },
  {
   "cell_type": "code",
   "execution_count": null,
   "metadata": {},
   "outputs": [],
   "source": [
    "df = pd.read_csv(\"../csv/2017/201701_expense_list.csv\")\n",
    "df"
   ]
  },
  {
   "cell_type": "code",
   "execution_count": null,
   "metadata": {},
   "outputs": [],
   "source": [
    "files = os.listdir(\"../csv/2017\")\n",
    "files"
   ]
  },
  {
   "cell_type": "code",
   "execution_count": 9,
   "metadata": {},
   "outputs": [],
   "source": [
    "## 파일명은 리스트화 해서 출력\n",
    "## read_csv(상대경로+파일이름)\n",
    "path = \"../csv/2017/\"\n",
    "\n",
    "## 월별로 나누어져있는 csv 파일들을 하나의 데이터프레임에 결합.\n",
    "## 행을 추가 index의 값은 초기화\n",
    "\n",
    "df_2017 = pd.DataFrame()\n",
    "\n",
    "for file in files:\n",
    "    df = pd.read_csv(path+file)\n",
    "    # print(len(df))\n",
    "    df_2017 = pd.concat([df_2017, df], ignore_index=True)\n",
    "\n",
    "# df_2017.head()"
   ]
  },
  {
   "cell_type": "code",
   "execution_count": 10,
   "metadata": {},
   "outputs": [
    {
     "data": {
      "text/plain": [
       "70132"
      ]
     },
     "execution_count": 10,
     "metadata": {},
     "output_type": "execute_result"
    }
   ],
   "source": [
    "len(df_2017)"
   ]
  },
  {
   "cell_type": "code",
   "execution_count": null,
   "metadata": {},
   "outputs": [],
   "source": [
    "## csv 파일 로드.\n",
    "## json -> ??? dict 형태의 파일.\n",
    "## xlsx 엑셀파일 \n",
    "\n",
    "## json 파일 로드 \n",
    "json_sample = pd.read_json(\"../csv/2019/201901_expense_list.json\")\n",
    "json_sample.head()"
   ]
  },
  {
   "cell_type": "code",
   "execution_count": 17,
   "metadata": {},
   "outputs": [
    {
     "name": "stdout",
     "output_type": "stream",
     "text": [
      "Requirement already satisfied: openpyxl in c:\\users\\moons\\appdata\\local\\programs\\python\\python36\\lib\\site-packages (3.0.9)\n",
      "Requirement already satisfied: et-xmlfile in c:\\users\\moons\\appdata\\local\\programs\\python\\python36\\lib\\site-packages (from openpyxl) (1.1.0)\n",
      "Note: you may need to restart the kernel to use updated packages.\n"
     ]
    }
   ],
   "source": [
    "pip install openpyxl"
   ]
  },
  {
   "cell_type": "code",
   "execution_count": null,
   "metadata": {},
   "outputs": [],
   "source": [
    "## xlsx 파일 로드\n",
    "xlsx_sample = pd.read_excel(\"../csv/2020/202001_expense_list.xlsx\", engine='openpyxl')\n",
    "xlsx_sample"
   ]
  },
  {
   "cell_type": "code",
   "execution_count": null,
   "metadata": {},
   "outputs": [],
   "source": [
    "## 2017년도 데이터는 df_2017\n",
    "## 2018, 2019, 2020 데이터를 df_연도 변수를 지정.\n",
    "## df_2018 \n",
    "\n"
   ]
  },
  {
   "cell_type": "markdown",
   "metadata": {},
   "source": [
    "### df_2018 데이터프레임 만들기\n",
    "1. 파일의 이름들을 리스트화 해서 변수에 지정\n",
    "2. 파일들이 있는 상대경로를 지정\n",
    "3. df_2018이라는 빈 데이터프레임을 생성\n",
    "4. 파일 이름들이 있는 리스트를 for문을 이용하여 반복\n",
    "    1. df라는 변수에 파일을 로드 \n",
    "    2. df_2018 concat()함수를 이용하여 행 추가하는 작업  "
   ]
  },
  {
   "cell_type": "code",
   "execution_count": 22,
   "metadata": {},
   "outputs": [
    {
     "data": {
      "text/plain": [
       "72218"
      ]
     },
     "execution_count": 22,
     "metadata": {},
     "output_type": "execute_result"
    }
   ],
   "source": [
    "## 파일의 이름들을 리스트로 로드\n",
    "files = os.listdir(\"../csv/2018/\")\n",
    "## 파일의 위치를 변수에 선언\n",
    "path = \"../csv/2018/\"\n",
    "## df_2018 빈 데이터프레임을 생성\n",
    "df_2018 = pd.DataFrame()    \n",
    "\n",
    "##리스트를 for문을 이용하여 반복\n",
    "for file in files:\n",
    "    ## df변수에 데이터프레임을 로드 \n",
    "    df = pd.read_csv(path + file)\n",
    "    ## df에 있는 데이터프레임을 df_2018에 행추가\n",
    "    df_2018 = pd.concat([df_2018, df], ignore_index=True)\n",
    "len(df_2018)"
   ]
  },
  {
   "cell_type": "code",
   "execution_count": 23,
   "metadata": {},
   "outputs": [
    {
     "data": {
      "text/plain": [
       "74207"
      ]
     },
     "execution_count": 23,
     "metadata": {},
     "output_type": "execute_result"
    }
   ],
   "source": [
    "## 파일의 이름들을 리스트로 로드\n",
    "files = os.listdir(\"../csv/2019/\")\n",
    "## 파일의 위치를 변수에 선언\n",
    "path = \"../csv/2019/\"\n",
    "## df_2018 빈 데이터프레임을 생성\n",
    "df_2019 = pd.DataFrame()    \n",
    "\n",
    "##리스트를 for문을 이용하여 반복\n",
    "for file in files:\n",
    "    ## df변수에 데이터프레임을 로드 \n",
    "    df = pd.read_json(path + file)\n",
    "    ## df에 있는 데이터프레임을 df_2018에 행추가\n",
    "    df_2019 = pd.concat([df_2019, df], ignore_index=True)\n",
    "len(df_2019)"
   ]
  },
  {
   "cell_type": "code",
   "execution_count": 24,
   "metadata": {},
   "outputs": [
    {
     "data": {
      "text/plain": [
       "70862"
      ]
     },
     "execution_count": 24,
     "metadata": {},
     "output_type": "execute_result"
    }
   ],
   "source": [
    "## 파일의 이름들을 리스트로 로드\n",
    "files = os.listdir(\"../csv/2020/\")\n",
    "## 파일의 위치를 변수에 선언\n",
    "path = \"../csv/2020/\"\n",
    "## df_2018 빈 데이터프레임을 생성\n",
    "df_2020 = pd.DataFrame()    \n",
    "\n",
    "##리스트를 for문을 이용하여 반복\n",
    "for file in files:\n",
    "    ## df변수에 데이터프레임을 로드 \n",
    "    df = pd.read_excel(path + file, engine='openpyxl')\n",
    "    ## df에 있는 데이터프레임을 df_2018에 행추가\n",
    "    df_2020 = pd.concat([df_2020, df], ignore_index=True)\n",
    "len(df_2020)"
   ]
  },
  {
   "cell_type": "code",
   "execution_count": null,
   "metadata": {},
   "outputs": [],
   "source": [
    "path = \"../csv/2021/\"\n",
    "files = os.listdir(path)\n",
    "\n",
    "files = [file for file in files if file.endswith(\".csv\")]\n",
    "files\n"
   ]
  },
  {
   "cell_type": "code",
   "execution_count": 31,
   "metadata": {},
   "outputs": [
    {
     "data": {
      "text/plain": [
       "83819"
      ]
     },
     "execution_count": 31,
     "metadata": {},
     "output_type": "execute_result"
    }
   ],
   "source": [
    "df_2021 = pd.DataFrame()\n",
    "\n",
    "for file in files:\n",
    "    df = pd.read_csv(path+file)\n",
    "    df_2021 = pd.concat([df_2021, df], ignore_index=True)\n",
    "\n",
    "len(df_2021)"
   ]
  },
  {
   "cell_type": "code",
   "execution_count": 32,
   "metadata": {},
   "outputs": [
    {
     "name": "stdout",
     "output_type": "stream",
     "text": [
      "<class 'pandas.core.frame.DataFrame'>\n",
      "RangeIndex: 70132 entries, 0 to 70131\n",
      "Data columns (total 20 columns):\n",
      " #   Column             Non-Null Count  Dtype  \n",
      "---  ------             --------------  -----  \n",
      " 0   nid                70132 non-null  int64  \n",
      " 1   title              70132 non-null  object \n",
      " 2   url                70132 non-null  object \n",
      " 3   dept_nm_lvl_1      70132 non-null  object \n",
      " 4   dept_nm_lvl_2      70074 non-null  object \n",
      " 5   dept_nm_lvl_3      61262 non-null  object \n",
      " 6   dept_nm_lvl_4      17939 non-null  object \n",
      " 7   dept_nm_lvl_5      3474 non-null   object \n",
      " 8   exec_yr            70132 non-null  int64  \n",
      " 9   exec_month         70132 non-null  int64  \n",
      " 10  expense_budget     3108 non-null   float64\n",
      " 11  expense_execution  2805 non-null   float64\n",
      " 12  category           1259 non-null   object \n",
      " 13  dept_nm_full       70053 non-null  object \n",
      " 14  exec_dt            70132 non-null  object \n",
      " 15  exec_loc           69360 non-null  object \n",
      " 16  exec_purpose       70110 non-null  object \n",
      " 17  target_nm          69597 non-null  object \n",
      " 18  payment_method     69929 non-null  object \n",
      " 19  exec_amount        70132 non-null  int64  \n",
      "dtypes: float64(2), int64(4), object(14)\n",
      "memory usage: 10.7+ MB\n"
     ]
    }
   ],
   "source": [
    "## 2017년도 데이터만 가지고 작업\n",
    "df_2017.info()"
   ]
  },
  {
   "cell_type": "code",
   "execution_count": 33,
   "metadata": {},
   "outputs": [
    {
     "data": {
      "text/plain": [
       "nid                      0\n",
       "title                    0\n",
       "url                      0\n",
       "dept_nm_lvl_1            0\n",
       "dept_nm_lvl_2           58\n",
       "dept_nm_lvl_3         8870\n",
       "dept_nm_lvl_4        52193\n",
       "dept_nm_lvl_5        66658\n",
       "exec_yr                  0\n",
       "exec_month               0\n",
       "expense_budget       67024\n",
       "expense_execution    67327\n",
       "category             68873\n",
       "dept_nm_full            79\n",
       "exec_dt                  0\n",
       "exec_loc               772\n",
       "exec_purpose            22\n",
       "target_nm              535\n",
       "payment_method         203\n",
       "exec_amount              0\n",
       "dtype: int64"
      ]
     },
     "execution_count": 33,
     "metadata": {},
     "output_type": "execute_result"
    }
   ],
   "source": [
    "df_2017.isna().sum()"
   ]
  },
  {
   "cell_type": "code",
   "execution_count": 34,
   "metadata": {},
   "outputs": [
    {
     "data": {
      "text/plain": [
       "서울시본청          42483\n",
       "사업소            16817\n",
       "소방재난본부(소방서)     7551\n",
       "의회사무처           3281\n",
       "Name: dept_nm_lvl_1, dtype: int64"
      ]
     },
     "execution_count": 34,
     "metadata": {},
     "output_type": "execute_result"
    }
   ],
   "source": [
    "df_2017[\"dept_nm_lvl_1\"].value_counts()"
   ]
  },
  {
   "cell_type": "code",
   "execution_count": 35,
   "metadata": {},
   "outputs": [],
   "source": [
    "month_2017 = df_2017.groupby(\"exec_month\").sum()[\"exec_amount\"]"
   ]
  },
  {
   "cell_type": "code",
   "execution_count": null,
   "metadata": {},
   "outputs": [],
   "source": [
    "month_2017"
   ]
  },
  {
   "cell_type": "code",
   "execution_count": null,
   "metadata": {},
   "outputs": [],
   "source": [
    "x = month_2017.index\n",
    "y = month_2017.tolist()\n",
    "\n",
    "plt.bar(x, y)\n",
    "plt.show()"
   ]
  },
  {
   "cell_type": "code",
   "execution_count": 39,
   "metadata": {},
   "outputs": [],
   "source": [
    "total_df = pd.concat([df_2017, df_2018, df_2019, df_2020, df_2021], ignore_index=True)"
   ]
  },
  {
   "cell_type": "code",
   "execution_count": 40,
   "metadata": {},
   "outputs": [
    {
     "data": {
      "text/plain": [
       "371238"
      ]
     },
     "execution_count": 40,
     "metadata": {},
     "output_type": "execute_result"
    }
   ],
   "source": [
    "len(total_df)"
   ]
  },
  {
   "cell_type": "markdown",
   "metadata": {},
   "source": [
    "### total_df\n",
    "1. 컬럼명 변경 (\"nid\", \"제목\", \"url\", \"부서레벨1\", \"부서레벨2\", \"부서레벨3\", \"부서레벨4\", \"부서레벨5\", \"집행연도\", \"집행월\", \"예산\", \"집행\", \"구분\", \"부서명\", \"집행일시\", \"집행장소\", \"집행목적\", \"대상인원\", \"결제방법\", \"집행금액\", \"비목\")\n",
    "2. 컬럼 삭제 (\"부서레벨3\", \"부서레벨4\", \"부서레벨5\", \"예산\", \"집행\", \"구분\", \"비목\")\n",
    "3. 연도별 집행금액의 합 시각화( 바형 그래프 )\n",
    "4. 그룹화(연도, 월) 집행금액의 합계를 그래프로 시각화 (바형 그래프)"
   ]
  },
  {
   "cell_type": "code",
   "execution_count": 41,
   "metadata": {},
   "outputs": [],
   "source": [
    "## 컬럼명 변경\n",
    "total_df.columns = [\"nid\", \"제목\", \"url\", \"부서레벨1\", \"부서레벨2\", \"부서레벨3\", \n",
    "\"부서레벨4\", \"부서레벨5\", \"집행연도\", \"집행월\", \"예산\", \"집행\", \"구분\", \"부서명\", \n",
    "\"집행일시\", \"집행장소\", \"집행목적\", \"대상인원\", \"결제방법\", \"집행금액\", \"비목\"]"
   ]
  },
  {
   "cell_type": "code",
   "execution_count": 42,
   "metadata": {},
   "outputs": [
    {
     "data": {
      "text/html": [
       "<div>\n",
       "<style scoped>\n",
       "    .dataframe tbody tr th:only-of-type {\n",
       "        vertical-align: middle;\n",
       "    }\n",
       "\n",
       "    .dataframe tbody tr th {\n",
       "        vertical-align: top;\n",
       "    }\n",
       "\n",
       "    .dataframe thead th {\n",
       "        text-align: right;\n",
       "    }\n",
       "</style>\n",
       "<table border=\"1\" class=\"dataframe\">\n",
       "  <thead>\n",
       "    <tr style=\"text-align: right;\">\n",
       "      <th></th>\n",
       "      <th>nid</th>\n",
       "      <th>제목</th>\n",
       "      <th>url</th>\n",
       "      <th>부서레벨1</th>\n",
       "      <th>부서레벨2</th>\n",
       "      <th>부서레벨3</th>\n",
       "      <th>부서레벨4</th>\n",
       "      <th>부서레벨5</th>\n",
       "      <th>집행연도</th>\n",
       "      <th>집행월</th>\n",
       "      <th>...</th>\n",
       "      <th>집행</th>\n",
       "      <th>구분</th>\n",
       "      <th>부서명</th>\n",
       "      <th>집행일시</th>\n",
       "      <th>집행장소</th>\n",
       "      <th>집행목적</th>\n",
       "      <th>대상인원</th>\n",
       "      <th>결제방법</th>\n",
       "      <th>집행금액</th>\n",
       "      <th>비목</th>\n",
       "    </tr>\n",
       "  </thead>\n",
       "  <tbody>\n",
       "    <tr>\n",
       "      <th>0</th>\n",
       "      <td>11430252</td>\n",
       "      <td>2017년 1월 장애인복지정책과 업무추진비 집행내역</td>\n",
       "      <td>http://opengov.seoul.go.kr/public/11430252</td>\n",
       "      <td>서울시본청</td>\n",
       "      <td>복지본부</td>\n",
       "      <td>장애인복지정책과</td>\n",
       "      <td>NaN</td>\n",
       "      <td>NaN</td>\n",
       "      <td>2017</td>\n",
       "      <td>1</td>\n",
       "      <td>...</td>\n",
       "      <td>NaN</td>\n",
       "      <td>NaN</td>\n",
       "      <td>복지본부 장애인복지정책과</td>\n",
       "      <td>2017-01-26 13:10</td>\n",
       "      <td>동해일식 (중구 무교동)</td>\n",
       "      <td>기본소득과 장애인복지 논의간담회</td>\n",
       "      <td>장애인복지정책팀장 외 2명</td>\n",
       "      <td>카드</td>\n",
       "      <td>76000</td>\n",
       "      <td>NaN</td>\n",
       "    </tr>\n",
       "    <tr>\n",
       "      <th>1</th>\n",
       "      <td>11430252</td>\n",
       "      <td>2017년 1월 장애인복지정책과 업무추진비 집행내역</td>\n",
       "      <td>http://opengov.seoul.go.kr/public/11430252</td>\n",
       "      <td>서울시본청</td>\n",
       "      <td>복지본부</td>\n",
       "      <td>장애인복지정책과</td>\n",
       "      <td>NaN</td>\n",
       "      <td>NaN</td>\n",
       "      <td>2017</td>\n",
       "      <td>1</td>\n",
       "      <td>...</td>\n",
       "      <td>NaN</td>\n",
       "      <td>NaN</td>\n",
       "      <td>복지본부 장애인복지정책과</td>\n",
       "      <td>2017-01-25 22:41</td>\n",
       "      <td>김앤장 (중구 무교로)</td>\n",
       "      <td>장애인단체 활동지원 논의간담회</td>\n",
       "      <td>장애인복지정책과장 외 3명</td>\n",
       "      <td>카드</td>\n",
       "      <td>102000</td>\n",
       "      <td>NaN</td>\n",
       "    </tr>\n",
       "  </tbody>\n",
       "</table>\n",
       "<p>2 rows × 21 columns</p>\n",
       "</div>"
      ],
      "text/plain": [
       "        nid                            제목  \\\n",
       "0  11430252  2017년 1월 장애인복지정책과 업무추진비 집행내역   \n",
       "1  11430252  2017년 1월 장애인복지정책과 업무추진비 집행내역   \n",
       "\n",
       "                                          url  부서레벨1 부서레벨2     부서레벨3 부서레벨4  \\\n",
       "0  http://opengov.seoul.go.kr/public/11430252  서울시본청  복지본부  장애인복지정책과   NaN   \n",
       "1  http://opengov.seoul.go.kr/public/11430252  서울시본청  복지본부  장애인복지정책과   NaN   \n",
       "\n",
       "  부서레벨5  집행연도  집행월  ...  집행   구분            부서명              집행일시  \\\n",
       "0   NaN  2017    1  ... NaN  NaN  복지본부 장애인복지정책과  2017-01-26 13:10   \n",
       "1   NaN  2017    1  ... NaN  NaN  복지본부 장애인복지정책과  2017-01-25 22:41   \n",
       "\n",
       "            집행장소               집행목적            대상인원 결제방법    집행금액   비목  \n",
       "0  동해일식 (중구 무교동)  기본소득과 장애인복지 논의간담회  장애인복지정책팀장 외 2명   카드   76000  NaN  \n",
       "1   김앤장 (중구 무교로)   장애인단체 활동지원 논의간담회  장애인복지정책과장 외 3명   카드  102000  NaN  \n",
       "\n",
       "[2 rows x 21 columns]"
      ]
     },
     "execution_count": 42,
     "metadata": {},
     "output_type": "execute_result"
    }
   ],
   "source": [
    "total_df.head(2)"
   ]
  },
  {
   "cell_type": "code",
   "execution_count": 43,
   "metadata": {},
   "outputs": [],
   "source": [
    "total_df.drop([\"부서레벨3\", \"부서레벨4\", \"부서레벨5\", \"예산\", \"집행\", \"구분\", \"비목\"], \n",
    "axis=1, inplace=True)"
   ]
  },
  {
   "cell_type": "code",
   "execution_count": null,
   "metadata": {},
   "outputs": [],
   "source": [
    "total_df.head(2)"
   ]
  },
  {
   "cell_type": "code",
   "execution_count": null,
   "metadata": {},
   "outputs": [],
   "source": [
    "## 집행연도 그룹화 , 집행금액의 합을 출력\n",
    "month_total = total_df.groupby(\"집행연도\").sum()[\"집행금액\"]\n",
    "month_total"
   ]
  },
  {
   "cell_type": "code",
   "execution_count": 46,
   "metadata": {},
   "outputs": [
    {
     "data": {
      "image/png": "[encoded data removed]",
      "text/plain": [
       "<Figure size 432x288 with 1 Axes>"
      ]
     },
     "metadata": {
      "needs_background": "light"
     },
     "output_type": "display_data"
    }
   ],
   "source": [
    "x = month_total.index\n",
    "y = month_total.tolist()\n",
    "\n",
    "plt.bar(x, y)\n",
    "plt.show()"
   ]
  },
  {
   "cell_type": "code",
   "execution_count": null,
   "metadata": {},
   "outputs": [],
   "source": [
    "## pivot_table 형태로 바꿔서 시각화\n",
    "month_total = pd.pivot_table(total_df, index=[\"집행연도\"], values=[\"집행금액\"], aggfunc='sum')\n",
    "month_total"
   ]
  },
  {
   "cell_type": "code",
   "execution_count": 53,
   "metadata": {},
   "outputs": [
    {
     "data": {
      "text/plain": [
       "<AxesSubplot:xlabel='집행연도'>"
      ]
     },
     "execution_count": 53,
     "metadata": {},
     "output_type": "execute_result"
    },
    {
     "data": {
      "image/png": "[encoded data removed]",
      "text/plain": [
       "<Figure size 432x288 with 1 Axes>"
      ]
     },
     "metadata": {
      "needs_background": "light"
     },
     "output_type": "display_data"
    }
   ],
   "source": [
    "import matplotlib\n",
    "\n",
    "matplotlib.rcParams['font.family'] = 'Malgun Gothic'\n",
    "matplotlib.rcParams['axes.unicode_minus'] = False\n",
    "\n",
    "(month_total).plot.bar(rot=0)"
   ]
  },
  {
   "cell_type": "code",
   "execution_count": 56,
   "metadata": {},
   "outputs": [
    {
     "data": {
      "text/plain": [
       "집행연도  집행월\n",
       "2017  1       710368860\n",
       "      2       712679864\n",
       "      3       737250454\n",
       "      4       635265805\n",
       "      5       647582378\n",
       "      6       758257342\n",
       "      7       701604626\n",
       "      8       661174850\n",
       "      9       806170700\n",
       "      10      637219943\n",
       "      11      843619171\n",
       "      12     1225747394\n",
       "2018  1       735587570\n",
       "      2       769360005\n",
       "      3       761059010\n",
       "      4       703781418\n",
       "      5       669044701\n",
       "      6       690652154\n",
       "      7       788926477\n",
       "      8       730290532\n",
       "      9       769404957\n",
       "      10      827022975\n",
       "      11      960310221\n",
       "      12     1532116522\n",
       "2019  1       882512749\n",
       "      2       768931868\n",
       "      3       816280447\n",
       "      4       814657376\n",
       "      5       747256509\n",
       "      6       775945999\n",
       "      7       881725566\n",
       "      8       762251087\n",
       "      9       841641708\n",
       "      10      861865780\n",
       "      11      915992092\n",
       "      12     1463269451\n",
       "2020  1       776731595\n",
       "      2       759694988\n",
       "      3       662143473\n",
       "      4       752513810\n",
       "      5       770802340\n",
       "      6       913814872\n",
       "      7       821051025\n",
       "      8       589831097\n",
       "      9       776747261\n",
       "      10      760075068\n",
       "      11      878275658\n",
       "      12     1346759077\n",
       "2021  1       451098185\n",
       "      2       611418633\n",
       "      3       698362267\n",
       "      4       606388459\n",
       "      5       639039670\n",
       "      6       735812580\n",
       "      7       613015838\n",
       "      8       591177484\n",
       "      9       800143993\n",
       "      10      860936842\n",
       "      11     1203966624\n",
       "      12     1444329081\n",
       "Name: 집행금액, dtype: int64"
      ]
     },
     "execution_count": 56,
     "metadata": {},
     "output_type": "execute_result"
    }
   ],
   "source": [
    "year_month_total = total_df.groupby([\"집행연도\", \"집행월\"]).sum()[\"집행금액\"]\n",
    "year_month_total"
   ]
  },
  {
   "cell_type": "code",
   "execution_count": null,
   "metadata": {},
   "outputs": [],
   "source": [
    "year_month_total = pd.pivot_table(total_df, index=[\"집행월\"], columns=[\"집행연도\"] , \n",
    "                                    values=[\"집행금액\"], aggfunc='sum')\n",
    "year_month_total"
   ]
  },
  {
   "cell_type": "code",
   "execution_count": 60,
   "metadata": {},
   "outputs": [
    {
     "data": {
      "text/plain": [
       "<AxesSubplot:xlabel='집행월'>"
      ]
     },
     "execution_count": 60,
     "metadata": {},
     "output_type": "execute_result"
    },
    {
     "data": {
      "image/png": "[encoded data removed]",
      "text/plain": [
       "<Figure size 432x288 with 1 Axes>"
      ]
     },
     "metadata": {
      "needs_background": "light"
     },
     "output_type": "display_data"
    }
   ],
   "source": [
    "(year_month_total).plot.bar(rot=0)"
   ]
  },
  {
   "cell_type": "code",
   "execution_count": null,
   "metadata": {},
   "outputs": [],
   "source": [
    "## pivot_table -> 부서레벨1을 기준으로 연도별 집행금액 평균값을 테이블 생성\n",
    "## bar 그래프로 시각화.\n",
    "\n",
    "# dep_total = pd.pivot_table(total_df, index=[\"부서레벨1\"], columns=[\"집행연도\"], \n",
    "# values=[\"집행금액\"], aggfunc='mean').fillna(0)\n",
    "\n",
    "\n",
    "dep_total = pd.pivot_table(total_df, index=[\"부서레벨1\"], columns=[\"집행연도\"], \n",
    "values=[\"집행금액\"], aggfunc='mean', fill_value=0)\n",
    "\n",
    "dep_total"
   ]
  },
  {
   "cell_type": "code",
   "execution_count": null,
   "metadata": {},
   "outputs": [],
   "source": [
    "dep_total.plot.barh(rot=0)"
   ]
  },
  {
   "cell_type": "code",
   "execution_count": null,
   "metadata": {},
   "outputs": [],
   "source": [
    "## total_df[\"부서레벨1\"] 데이터중에 사업소, 되어있는 데이터에서 , 삭제.\n",
    "total_df[\"부서레벨1\"].value_counts()"
   ]
  },
  {
   "cell_type": "code",
   "execution_count": 69,
   "metadata": {},
   "outputs": [],
   "source": [
    "## replace \n",
    "total_df[\"부서레벨1\"] = total_df[\"부서레벨1\"].str.replace(\",\", \"\")\n",
    "\n",
    "# total_df[\"부서레벨1\"] = total_df[\"부서레벨1\"].apply(lambda x : x.replace(\",\", \"\"))"
   ]
  },
  {
   "cell_type": "code",
   "execution_count": null,
   "metadata": {},
   "outputs": [],
   "source": []
  }
 ],
 "metadata": {
  "interpreter": {
   "hash": "187f19b7e1a6c9dce315ccb3b0d07c5b7aeed6681cd1ee8ee772db2198b62651"
  },
  "kernelspec": {
   "display_name": "Python 3.6.8 64-bit",
   "language": "python",
   "name": "python3"
  },
  "language_info": {
   "codemirror_mode": {
    "name": "ipython",
    "version": 3
   },
   "file_extension": ".py",
   "mimetype": "text/x-python",
   "name": "python",
   "nbconvert_exporter": "python",
   "pygments_lexer": "ipython3",
   "version": "3.6.8"
  },
  "orig_nbformat": 4
 },
 "nbformat": 4,
 "nbformat_minor": 2
}
