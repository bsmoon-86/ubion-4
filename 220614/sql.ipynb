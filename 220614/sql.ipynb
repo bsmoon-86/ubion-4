{
 "cells": [
  {
   "cell_type": "code",
   "execution_count": 1,
   "metadata": {},
   "outputs": [
    {
     "name": "stdout",
     "output_type": "stream",
     "text": [
      "Requirement already satisfied: pymysql in c:\\users\\moons\\appdata\\local\\programs\\python\\python36\\lib\\site-packages (1.0.2)\n",
      "Note: you may need to restart the kernel to use updated packages.\n"
     ]
    }
   ],
   "source": [
    "pip install pymysql"
   ]
  },
  {
   "cell_type": "code",
   "execution_count": 2,
   "metadata": {},
   "outputs": [],
   "source": [
    "import pymysql\n",
    "import pandas as pd\n",
    "\n",
    "##pymysql -> mysql를 파이썬에서 사용하기 위해서 불러온 라이브러리\n",
    "## pandas -> mysql를 이용해서 받아온 데이터를 데이터프레임의 형태로 변경."
   ]
  },
  {
   "cell_type": "code",
   "execution_count": 5,
   "metadata": {},
   "outputs": [],
   "source": [
    "## pymysql에 있는 connect라는 함수를 이용해서 접속할 Database을 지정.\n",
    "\n",
    "_db = pymysql.connect(\n",
    "    user = 'root',\n",
    "    passwd = '1234', \n",
    "    host = 'localhost', \n",
    "    db = 'ubion4'\n",
    ")\n",
    "\n"
   ]
  },
  {
   "cell_type": "code",
   "execution_count": 6,
   "metadata": {},
   "outputs": [],
   "source": [
    "## cursor는 sql구문을 실행 시키기위해 만들어야되는 변수. \n",
    "## 인자값에 들어가는 Dictcursor -> sql을 통해서 받아오는 데이터의 형태를 딕셔너리 형태로 받아오겠다. \n",
    "cursor = _db.cursor(pymysql.cursors.DictCursor)"
   ]
  },
  {
   "cell_type": "code",
   "execution_count": 15,
   "metadata": {},
   "outputs": [
    {
     "data": {
      "text/html": [
       "<div>\n",
       "<style scoped>\n",
       "    .dataframe tbody tr th:only-of-type {\n",
       "        vertical-align: middle;\n",
       "    }\n",
       "\n",
       "    .dataframe tbody tr th {\n",
       "        vertical-align: top;\n",
       "    }\n",
       "\n",
       "    .dataframe thead th {\n",
       "        text-align: right;\n",
       "    }\n",
       "</style>\n",
       "<table border=\"1\" class=\"dataframe\">\n",
       "  <thead>\n",
       "    <tr style=\"text-align: right;\">\n",
       "      <th></th>\n",
       "      <th>날짜</th>\n",
       "      <th>누적사망자</th>\n",
       "      <th>누적확진자</th>\n",
       "    </tr>\n",
       "  </thead>\n",
       "  <tbody>\n",
       "    <tr>\n",
       "      <th>0</th>\n",
       "      <td>2020-03-10 00:00:00.000</td>\n",
       "      <td>54</td>\n",
       "      <td>7513</td>\n",
       "    </tr>\n",
       "    <tr>\n",
       "      <th>1</th>\n",
       "      <td>2020-03-11 00:00:00.000</td>\n",
       "      <td>60</td>\n",
       "      <td>7755</td>\n",
       "    </tr>\n",
       "    <tr>\n",
       "      <th>2</th>\n",
       "      <td>2020-03-12 00:00:00.000</td>\n",
       "      <td>66</td>\n",
       "      <td>7869</td>\n",
       "    </tr>\n",
       "    <tr>\n",
       "      <th>3</th>\n",
       "      <td>2020-03-13 00:00:00.000</td>\n",
       "      <td>67</td>\n",
       "      <td>7979</td>\n",
       "    </tr>\n",
       "    <tr>\n",
       "      <th>4</th>\n",
       "      <td>2020-03-14 00:00:00.000</td>\n",
       "      <td>72</td>\n",
       "      <td>8086</td>\n",
       "    </tr>\n",
       "    <tr>\n",
       "      <th>5</th>\n",
       "      <td>2020-03-15 00:00:00.000</td>\n",
       "      <td>75</td>\n",
       "      <td>8162</td>\n",
       "    </tr>\n",
       "    <tr>\n",
       "      <th>6</th>\n",
       "      <td>2020-03-16 00:00:00.000</td>\n",
       "      <td>75</td>\n",
       "      <td>8236</td>\n",
       "    </tr>\n",
       "    <tr>\n",
       "      <th>7</th>\n",
       "      <td>2020-03-17 00:00:00.000</td>\n",
       "      <td>81</td>\n",
       "      <td>8320</td>\n",
       "    </tr>\n",
       "    <tr>\n",
       "      <th>8</th>\n",
       "      <td>2020-03-18 00:00:00.000</td>\n",
       "      <td>84</td>\n",
       "      <td>8413</td>\n",
       "    </tr>\n",
       "    <tr>\n",
       "      <th>9</th>\n",
       "      <td>2020-03-19 00:00:00.000</td>\n",
       "      <td>91</td>\n",
       "      <td>8565</td>\n",
       "    </tr>\n",
       "  </tbody>\n",
       "</table>\n",
       "</div>"
      ],
      "text/plain": [
       "                        날짜  누적사망자  누적확진자\n",
       "0  2020-03-10 00:00:00.000     54   7513\n",
       "1  2020-03-11 00:00:00.000     60   7755\n",
       "2  2020-03-12 00:00:00.000     66   7869\n",
       "3  2020-03-13 00:00:00.000     67   7979\n",
       "4  2020-03-14 00:00:00.000     72   8086\n",
       "5  2020-03-15 00:00:00.000     75   8162\n",
       "6  2020-03-16 00:00:00.000     75   8236\n",
       "7  2020-03-17 00:00:00.000     81   8320\n",
       "8  2020-03-18 00:00:00.000     84   8413\n",
       "9  2020-03-19 00:00:00.000     91   8565"
      ]
     },
     "execution_count": 15,
     "metadata": {},
     "output_type": "execute_result"
    }
   ],
   "source": [
    "sql = \"\"\"SELECT createDt as 날짜, deathCnt as 누적사망자, \n",
    "decideCnt as 누적확진자 \n",
    "FROM corona ORDER BY createDt LIMIT 10 \"\"\"\n",
    "\n",
    "cursor.execute(sql)\n",
    "result = cursor.fetchall()\n",
    "# result는 딕셔너리 형태의 데이터\n",
    "# print(result)\n",
    "\n",
    "# 딕셔너리 형태의 데이터를 데이터프레임으로 변경.\n",
    "df_result = pd.DataFrame(result)\n",
    "df_result"
   ]
  },
  {
   "cell_type": "code",
   "execution_count": 17,
   "metadata": {},
   "outputs": [],
   "source": [
    "sql = \"\"\"insert into test(id, password, name, phone) values (%s, %s, %s, %s)\"\"\"\n",
    "values = [\"test3\", \"1234\", \"kim\", \"01012345678\"]\n",
    "\n",
    "cursor.execute(sql, values)\n",
    "_db.commit()"
   ]
  },
  {
   "cell_type": "code",
   "execution_count": 18,
   "metadata": {},
   "outputs": [],
   "source": [
    "_id = input(\"ID : \")\n",
    "_pw = input(\"password : \")\n",
    "_name = input(\"name : \")\n",
    "_phone = input(\"phone : \")\n",
    "\n",
    "values = [_id, _pw, _name, _phone]\n",
    "cursor.execute(sql, values)\n",
    "_db.commit()"
   ]
  },
  {
   "cell_type": "code",
   "execution_count": 19,
   "metadata": {},
   "outputs": [],
   "source": [
    "### update문 -> input 2개 ID, password \n",
    "### 테이블은 test\n",
    "### update문 구조, password 변경. where id = (input으로 받은 ID 값)\n",
    "### sql문 values 지정을 해서 execute commit 코드를 작성\n",
    "\n",
    "## update문 구조\n",
    "## update 테이블명 set 컬럼명 = 변경할 값 where 조건식\n",
    "\n",
    "### sql문 작성\n",
    "sql = \"\"\"\n",
    "update test set password = %s where id = %s\n",
    "\"\"\"\n",
    "### ID,password 받아오는 input 2개를 만들고\n",
    "_id = input(\"ID : \")\n",
    "_pw = input(\"password : \")\n",
    "### 그 값들은 리스트로 변경\n",
    "values = [_pw, _id]\n",
    "### execute\n",
    "cursor.execute(sql, values)\n",
    "### commit\n",
    "_db.commit()"
   ]
  },
  {
   "cell_type": "code",
   "execution_count": 20,
   "metadata": {},
   "outputs": [],
   "source": [
    "### delete문 \n",
    "### input값 1개 (ID)\n",
    "### 해당 ID 값만 데이터가 삭제 되도록 sql문을 구성.\n",
    "### delete문 구조\n",
    "### delete from 테이블명 where 조건식\n",
    "\n",
    "sql = \"\"\"\n",
    "delete from test where id = %s\n",
    "\"\"\"\n",
    "\n",
    "_id = input(\"ID : \")\n",
    "values=[_id]\n",
    "\n",
    "cursor.execute(sql, values)\n",
    "_db.commit()"
   ]
  },
  {
   "cell_type": "code",
   "execution_count": null,
   "metadata": {},
   "outputs": [],
   "source": []
  }
 ],
 "metadata": {
  "interpreter": {
   "hash": "187f19b7e1a6c9dce315ccb3b0d07c5b7aeed6681cd1ee8ee772db2198b62651"
  },
  "kernelspec": {
   "display_name": "Python 3.6.8 64-bit",
   "language": "python",
   "name": "python3"
  },
  "language_info": {
   "codemirror_mode": {
    "name": "ipython",
    "version": 3
   },
   "file_extension": ".py",
   "mimetype": "text/x-python",
   "name": "python",
   "nbconvert_exporter": "python",
   "pygments_lexer": "ipython3",
   "version": "3.6.8"
  },
  "orig_nbformat": 4
 },
 "nbformat": 4,
 "nbformat_minor": 2
}
