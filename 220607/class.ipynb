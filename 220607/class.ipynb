{
 "cells": [
  {
   "cell_type": "code",
   "execution_count": 1,
   "metadata": {},
   "outputs": [],
   "source": [
    "class Class_1():        ## Class_1  클래스를 생성\n",
    "    def func_1(self):\n",
    "        print(\"Class_1 Call\")"
   ]
  },
  {
   "cell_type": "code",
   "execution_count": 2,
   "metadata": {},
   "outputs": [],
   "source": [
    "x = Class_1()"
   ]
  },
  {
   "cell_type": "code",
   "execution_count": 3,
   "metadata": {},
   "outputs": [
    {
     "name": "stdout",
     "output_type": "stream",
     "text": [
      "Class_1 Call\n"
     ]
    }
   ],
   "source": [
    "x.func_1()      # Class 내에 func_1()함수에는 매개변수 self\n",
    "                # 함수 호출 할때 매개변수에 기본값이 정의가 되지 않았는데 \n",
    "                # 인자값을 안 넣어도 실행 o\n",
    "                # class 내에 self는 x의 주소값"
   ]
  },
  {
   "cell_type": "code",
   "execution_count": 6,
   "metadata": {},
   "outputs": [
    {
     "name": "stdout",
     "output_type": "stream",
     "text": [
      "test 20\n"
     ]
    }
   ],
   "source": [
    "class Class_2():\n",
    "    def __init__(self, x, y):\n",
    "        self.x = x\n",
    "        self.y = y\n",
    "\n",
    "x = Class_2(\"test\", 20)\n",
    "print(x.x, x.y)"
   ]
  },
  {
   "cell_type": "code",
   "execution_count": 7,
   "metadata": {},
   "outputs": [],
   "source": [
    "y = Class_2(\"test2\", 50)"
   ]
  },
  {
   "cell_type": "code",
   "execution_count": 8,
   "metadata": {},
   "outputs": [
    {
     "name": "stdout",
     "output_type": "stream",
     "text": [
      "test 20 test2 50\n"
     ]
    }
   ],
   "source": [
    "print(x.x, x.y, y.x, y.y)"
   ]
  },
  {
   "cell_type": "code",
   "execution_count": 11,
   "metadata": {},
   "outputs": [
    {
     "name": "stdout",
     "output_type": "stream",
     "text": [
      "9 12\n"
     ]
    }
   ],
   "source": [
    "class Class_3():        ##Class_3 클래스를 생성\n",
    "    def __init__(self, input_a, input_b):   \n",
    "        ##Class_3 생성할때 input_a, input_b 매개변수의 값이 필요\n",
    "        self.a = input_a\n",
    "        self.b = input_b\n",
    "    \n",
    "    def func_1(self):\n",
    "        #func_1()함수 생성 -> class 안에 있는 input_a, input_b를 합쳐서 결과값 return\n",
    "        self.result = self.a + self.b\n",
    "        return self.result\n",
    "\n",
    "test = Class_3(5, 4)\n",
    "## self.a , self.b 어떠한 값이 될까\n",
    "## Class_3()라는클래스를 test라는 변수에 선언!\n",
    "## Class_3() 선언이 될때 실행이 되는 함수는 ? -> Class_3()안에 존재하는 __init__()함수가 실행\n",
    "## __init__()이라는 함수는 어떤 행동? -> self.a에 5를 대입, self.b에 4를 대입\n",
    "\n",
    "test.func_1()\n",
    "## test.func_1()의 결과값은 9가 된다. \n",
    "## 이유는  ??  Class_3() 안에 있는 func_1()함수가 self.a + self.b 라는 결과값을 return\n",
    "\n",
    "test2 = Class_3(10, 2)\n",
    "print(test.func_1(), test2.func_1())\n",
    "## 출력은 어떻게 나올까요? "
   ]
  },
  {
   "cell_type": "code",
   "execution_count": 12,
   "metadata": {},
   "outputs": [],
   "source": [
    "def func_2(input_a, input_b):\n",
    "    a = input_a\n",
    "    b = input_b\n",
    "\n",
    "func_2(5, 4)\n",
    "## func_2()가 하는 행동은 ? -> a라는 변수에 5을 대입, b라는 변수에 4를 대입."
   ]
  },
  {
   "cell_type": "code",
   "execution_count": 16,
   "metadata": {},
   "outputs": [
    {
     "name": "stdout",
     "output_type": "stream",
     "text": [
      "Kim Lee\n",
      "['01012345678', '01098765432'] ['01012345678', '01098765432']\n"
     ]
    }
   ],
   "source": [
    "class Class_4():\n",
    "    list = []       ## 클래스 변수\n",
    "    def __init__(self, _name):\n",
    "        self.name = _name\n",
    "    def add_list(self, _phone):\n",
    "        self.list.append(_phone)\n",
    "\n",
    "test = Class_4(\"Kim\")\n",
    "test2 = Class_4(\"Lee\")\n",
    "test.add_list(\"01012345678\")\n",
    "test2.add_list(\"01098765432\")\n",
    "print(test.name, test2.name)\n",
    "# 결과값? -> kim lee\n",
    "print(test.list, test2.list)"
   ]
  },
  {
   "cell_type": "code",
   "execution_count": 19,
   "metadata": {},
   "outputs": [
    {
     "name": "stdout",
     "output_type": "stream",
     "text": [
      "1550148559176 1550148558952\n"
     ]
    }
   ],
   "source": [
    "print(id(test.name), id(test2.name))"
   ]
  },
  {
   "cell_type": "code",
   "execution_count": 20,
   "metadata": {},
   "outputs": [
    {
     "name": "stdout",
     "output_type": "stream",
     "text": [
      "1550138710984 1550138710984\n"
     ]
    }
   ],
   "source": [
    "print(id(test.list), id(test2.list))"
   ]
  },
  {
   "cell_type": "markdown",
   "metadata": {},
   "source": [
    "1. class생성\n",
    "2. init함수에서 값을 2개 받아오고\n",
    "3. 새로운 함수에서 두 값을 출력\n",
    "4. 클래스를 선언을 2개를 해보고 다른 값들을 넣어서 출력"
   ]
  },
  {
   "cell_type": "markdown",
   "metadata": {},
   "source": [
    "1. class 생성 (Class_5())\n",
    "2. __init__ 함수에서 self를 제외한 값을 2개 클래스가 선언이 될때 받아올것.\n",
    "3. 함수를 3개 추가 \n",
    "4. 2개의 값을 합, 갑의 차, 값의 곱을 구하는 함수 3개 생성."
   ]
  },
  {
   "cell_type": "code",
   "execution_count": 22,
   "metadata": {},
   "outputs": [
    {
     "name": "stdout",
     "output_type": "stream",
     "text": [
      "('test', 'test2')\n",
      "('test4', 'test5')\n"
     ]
    }
   ],
   "source": [
    "class Class_5():\n",
    "    def __init__(self, _a, _b):\n",
    "        self.a = _a\n",
    "        self.b = _b\n",
    "    def func_1(self):\n",
    "        return self.a, self.b\n",
    "\n",
    "test = Class_5(\"test\", \"test2\")\n",
    "print(test.func_1())\n",
    "test2 = Class_5(\"test4\", \"test5\")\n",
    "print(test2.func_1())"
   ]
  },
  {
   "cell_type": "code",
   "execution_count": 23,
   "metadata": {},
   "outputs": [
    {
     "name": "stdout",
     "output_type": "stream",
     "text": [
      "12\n",
      "8\n",
      "20\n"
     ]
    }
   ],
   "source": [
    "class Class_6():\n",
    "    def __init__(self, _a, _b):\n",
    "        self.a = _a\n",
    "        self.b = _b\n",
    "    def func_1(self):\n",
    "        return self.a + self.b\n",
    "    def func_2(self):\n",
    "        return self.a - self.b\n",
    "    def func_3(self):\n",
    "        return self.a * self.b\n",
    "\n",
    "test = Class_6(10,2)\n",
    "print(test.func_1())\n",
    "print(test.func_2())\n",
    "print(test.func_3())"
   ]
  },
  {
   "cell_type": "code",
   "execution_count": 27,
   "metadata": {},
   "outputs": [
    {
     "name": "stdout",
     "output_type": "stream",
     "text": [
      "4.0\n",
      "0\n",
      "25\n"
     ]
    }
   ],
   "source": [
    "class Class_7(Class_6):\n",
    "    def func_4(self):\n",
    "        return self.a / self.b\n",
    "\n",
    "    def func_1(self):\n",
    "        return self.a % self.b\n",
    "\n",
    "test = Class_7(20, 5)\n",
    "print(test.func_4())\n",
    "print(test.func_1())\n",
    "test2 = Class_6(20, 5)\n",
    "print(test2.func_1())"
   ]
  },
  {
   "cell_type": "code",
   "execution_count": null,
   "metadata": {},
   "outputs": [],
   "source": []
  }
 ],
 "metadata": {
  "interpreter": {
   "hash": "187f19b7e1a6c9dce315ccb3b0d07c5b7aeed6681cd1ee8ee772db2198b62651"
  },
  "kernelspec": {
   "display_name": "Python 3.6.8 64-bit",
   "language": "python",
   "name": "python3"
  },
  "language_info": {
   "codemirror_mode": {
    "name": "ipython",
    "version": 3
   },
   "file_extension": ".py",
   "mimetype": "text/x-python",
   "name": "python",
   "nbconvert_exporter": "python",
   "pygments_lexer": "ipython3",
   "version": "3.6.8"
  },
  "orig_nbformat": 4
 },
 "nbformat": 4,
 "nbformat_minor": 2
}
