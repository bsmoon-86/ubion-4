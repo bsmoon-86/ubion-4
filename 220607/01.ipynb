{
 "cells": [
  {
   "cell_type": "markdown",
   "metadata": {},
   "source": [
    "1. python 변수 -> 데이터를 저장하는 공간의 주소.\n",
    "2. 조건문\n",
    "3. 반복문\n",
    "4. 함수"
   ]
  },
  {
   "cell_type": "code",
   "execution_count": 1,
   "metadata": {},
   "outputs": [],
   "source": [
    "# 변수를 선언하는 방법?\n",
    "a = 5 #숫자 형태의 데이터\n",
    "b = \"Hello\" #문자 형태의 데이터 -> \"\"나 '' 묶어서 표현\n",
    "c = 3.14 # float형태의 데이터\n",
    "d = True # bool형태의 데이터(참/거짓의 형태) -> 대개 사용하는 곳이 어디인가? / 조건문, 반복문 "
   ]
  },
  {
   "cell_type": "code",
   "execution_count": 2,
   "metadata": {},
   "outputs": [
    {
     "name": "stdout",
     "output_type": "stream",
     "text": [
      "8 2 15 1.6666666666666667 1 2 125\n"
     ]
    }
   ],
   "source": [
    "# 연산자 +, -, *, /, //, %, ** \n",
    "x = 5\n",
    "y = 3\n",
    "\n",
    "print(x+y, x-y, x*y, x/y, x//y, x%y, x**y)"
   ]
  },
  {
   "cell_type": "code",
   "execution_count": 3,
   "metadata": {},
   "outputs": [
    {
     "name": "stdout",
     "output_type": "stream",
     "text": [
      "HelloWorld\n"
     ]
    }
   ],
   "source": [
    "a = \"Hello\"\n",
    "b = \"World\"\n",
    "\n",
    "print(a + b)"
   ]
  },
  {
   "cell_type": "code",
   "execution_count": 4,
   "metadata": {},
   "outputs": [
    {
     "name": "stdout",
     "output_type": "stream",
     "text": [
      "8\n"
     ]
    }
   ],
   "source": [
    "# 대입연산자 +=, -=, *=, /=, //=, %=, **=\n",
    "# a += b  --> a = a + b\n",
    "\n",
    "x += y # x = x + y \n",
    "print(x)\n"
   ]
  },
  {
   "cell_type": "code",
   "execution_count": 6,
   "metadata": {},
   "outputs": [
    {
     "name": "stdout",
     "output_type": "stream",
     "text": [
      "False True True False\n"
     ]
    }
   ],
   "source": [
    "#관계연산자 -> ==, !=, >, >=, <, <= \n",
    "#관계연산자는 결과 값이 참 / 거짓의 형태로 출력 \n",
    "#조건문과 반복문에서 주로 사용\n",
    "\n",
    "x = 5\n",
    "y = 3\n",
    "\n",
    "print(x==y, x!=y, x > y, x<y)"
   ]
  },
  {
   "cell_type": "code",
   "execution_count": 11,
   "metadata": {},
   "outputs": [
    {
     "name": "stdout",
     "output_type": "stream",
     "text": [
      "x는 10보다 작다.\n"
     ]
    }
   ],
   "source": [
    "# if문 조건문\n",
    "# if 뒤에 조건식이 참인경우 if절의 코드를 실행 \n",
    "# 거짓인 경우에는 else절의 코드를 실행\n",
    "x = 5\n",
    "\n",
    "if x < 10:\n",
    "    print(\"x는 10보다 작다.\")   #조건식이 참인 경우 실행\n",
    "else:\n",
    "    print(\"x는 10보다 크거나 같다.\")    #조건식이 거짓인 경우 실행\n"
   ]
  },
  {
   "cell_type": "code",
   "execution_count": 12,
   "metadata": {},
   "outputs": [
    {
     "name": "stdout",
     "output_type": "stream",
     "text": [
      "0\n",
      "1\n",
      "2\n",
      "3\n",
      "4\n"
     ]
    }
   ],
   "source": [
    "# 반복문 for, while\n",
    "# for문 ->  for 변수명 in range(시작값, 종료값, 증감값):\n",
    "\n",
    "for i in range(0, 5, 1):\n",
    "    print(i)"
   ]
  },
  {
   "cell_type": "code",
   "execution_count": 13,
   "metadata": {},
   "outputs": [
    {
     "name": "stdout",
     "output_type": "stream",
     "text": [
      "5\n",
      "7\n",
      "2\n",
      "9\n",
      "1\n"
     ]
    }
   ],
   "source": [
    "# 리스트 형태의 데이터를 for문에서 사용\n",
    "\n",
    "_list = [5,7,2,9,1]\n",
    "\n",
    "for i in _list:\n",
    "    print(i)"
   ]
  },
  {
   "cell_type": "code",
   "execution_count": 14,
   "metadata": {},
   "outputs": [
    {
     "name": "stdout",
     "output_type": "stream",
     "text": [
      "0 1 2 3 4 5 6 7 8 9 "
     ]
    }
   ],
   "source": [
    "# while 반복문\n",
    "\n",
    "i = 0\n",
    "while i < 10:\n",
    "    print(i, end=\" \")\n",
    "    i += 1  #올바른 증감식\n",
    "    # i-= 1 #잘못된 증감식\n",
    "\n",
    "# 반복문을 사용할때 조심해야될 점은? 무한반복 피하기 위해서 범위의 설정(조건식이 거짓이 되는걸 확인.)"
   ]
  },
  {
   "cell_type": "code",
   "execution_count": 16,
   "metadata": {},
   "outputs": [
    {
     "name": "stdout",
     "output_type": "stream",
     "text": [
      "5 6 7 8 9 10 11 12 13 14 15 "
     ]
    }
   ],
   "source": [
    "# break -> 반복문에서 반복을 중지 \n",
    "# continue -> 반복문으로 돌아간다. \n",
    "\n",
    "for i in range(0, 20, 1):\n",
    "    if i < 5:\n",
    "        continue    # i가 4까지는 continue 실행이 되서 print를 하지 않고 반복문으로 돌아간다. \n",
    "    print(i, end=\" \")   # i의 값을 print\n",
    "    if i == 15:\n",
    "        break   #i가 15가 되면 break를 통하여 반복문이 종료"
   ]
  },
  {
   "cell_type": "code",
   "execution_count": 19,
   "metadata": {},
   "outputs": [
    {
     "name": "stdout",
     "output_type": "stream",
     "text": [
      "5\n",
      "1\n",
      "test\n"
     ]
    }
   ],
   "source": [
    "# 튜플 -> () -> 각 원소들의 수정과 삭제가 불가능\n",
    "# 리스트 -> [] -> 각 원소들의 수정과 삭제가 가능. 내부 함수를 이용하여 데이터를 튜닝\n",
    "# 딕셔너리 -> {} -> {key1 : value1, key2 : value2, ...} -> dict[key1] = value1\n",
    "\n",
    "_tuple = (3,5,1)\n",
    "print(_tuple[1])\n",
    "_list = [8,5,1,2]\n",
    "print(_list[2])\n",
    "_dict = {\"name\" : \"test\", \"age\":20}\n",
    "print(_dict[\"name\"])"
   ]
  },
  {
   "cell_type": "code",
   "execution_count": 20,
   "metadata": {},
   "outputs": [
    {
     "name": "stdout",
     "output_type": "stream",
     "text": [
      "func_1 Call\n",
      "func_1 Call\n"
     ]
    }
   ],
   "source": [
    "# 함수의 기능 -> 일정 코드를 반복적으로 사용할때 그 코드들의 데이터와 불러오는 기능.\n",
    "# 매개변수을 통해서 결과물의 값이 달라지는 경우가 존재. \n",
    "\n",
    "def func_1():\n",
    "    print(\"func_1 Call\")\n",
    "\n",
    "func_1()\n",
    "func_1()"
   ]
  },
  {
   "cell_type": "code",
   "execution_count": 21,
   "metadata": {},
   "outputs": [
    {
     "name": "stdout",
     "output_type": "stream",
     "text": [
      "12\n",
      "5\n"
     ]
    }
   ],
   "source": [
    "def func_2(x, y):   #매개변수 x, y를 생성\n",
    "    result = x + y\n",
    "    print(result)\n",
    "\n",
    "func_2(5, 7)        # 인자값 5와 7\n",
    "func_2(1, 4)        # 인자값 1과 4"
   ]
  },
  {
   "cell_type": "code",
   "execution_count": 24,
   "metadata": {},
   "outputs": [
    {
     "name": "stdout",
     "output_type": "stream",
     "text": [
      "Hello\n",
      "function\n"
     ]
    }
   ],
   "source": [
    "#지역 변수 / 전역 변수\n",
    "# 전역 변수는 일반적으로 모든 공간에서 사용을 하는 변수\n",
    "# 지역 변수는 어느 일정한 부분에서만 사용하는 변수\n",
    "\n",
    "result = \"Hello\"    #전역 변수 -> 모든 공간에서 사용이 가능하다. \n",
    "\n",
    "def func_3():\n",
    "    func_result = \"function\"    #지역 변수 -> func_3() 내부에서만 사용이 가능한 변수\n",
    "    print(result)   #전역 변수 result를 사용한다. 함수 내에서도 전역 변수는 사용이 가능하다. \n",
    "    return func_result\n",
    "\n",
    "print(func_3())\n",
    "# print(result)\n",
    "# print(func_result)\n"
   ]
  },
  {
   "cell_type": "markdown",
   "metadata": {},
   "source": [
    "1. func_4()를 생성\n",
    "2. 매개변수를 2개를 생성 (x, y)\n",
    "3. x,y의 값이 숫자의 형태인지 확인(매개변수의 타입이 int인지 체크) -> if문\n",
    "4. x부터 y까지의 숫자의 합계를 구하시오.(for문, while문) -> 1부터 10까지의 합계"
   ]
  },
  {
   "cell_type": "code",
   "execution_count": 27,
   "metadata": {},
   "outputs": [
    {
     "name": "stdout",
     "output_type": "stream",
     "text": [
      "25\n",
      "매개변수의 타입이 잘못되었습니다.\n"
     ]
    }
   ],
   "source": [
    "def func_4(x, y):   #func_4() 생성  x,y의 매개변수까지 생성\n",
    "    #매개변수의 타입이 int인 경우\n",
    "    if type(x) == int and type(y) == int:   #and 이기 때문에 조건식 두개가 다 참이여야 참이 출력\n",
    "        # x부터 y까지의 숫자들의 합계 구하라.\n",
    "        sum = 0     #지역변수 sum을 생성 초기의 값은 0으로 \n",
    "        for i in range(x, y+1, 1):\n",
    "            sum += i\n",
    "        return sum  #for문 안에 return 있는 경우에는 반복문이 한번 실행.(이유는 return 하고 함수가 종료)\n",
    "    else:   #매개변수의 타입이 int가 아닌경우 ( 둘중 하나라도 int가 아니면 else로 넘어온다. )\n",
    "        return \"매개변수의 타입이 잘못되었습니다.\"\n",
    "\n",
    "print(func_4(3, 7))\n",
    "print(func_4(\"3\", 7))"
   ]
  },
  {
   "cell_type": "code",
   "execution_count": 28,
   "metadata": {},
   "outputs": [
    {
     "name": "stdout",
     "output_type": "stream",
     "text": [
      "8\n",
      "15\n"
     ]
    }
   ],
   "source": [
    "def func_5(x, y=3):     #매개변수가 x, y 인데 y에는 기본값을 3이라고 지정\n",
    "    print(x + y)\n",
    "\n",
    "func_5(5)           #매개변수에서 기본값이 지정이 안되있는 x의 값만 인자 5을 삽입\n",
    "func_5(5, 10)       ## 매개변수의 기본값이 지정이 되어있는 y의 값도 인자값을 삽입을 해주면 변환이 되서 \n",
    "                    ## 함수가 실행"
   ]
  },
  {
   "cell_type": "markdown",
   "metadata": {},
   "source": [
    "1. 함수 생성 func_6()\n",
    "2. 매개 변수 x, y 선언\n",
    "3. x가 y보다 크면 두 수의 차\n",
    "4. x가 y보다 작으면 두수의 합\n",
    "5. x와 y가 같으면 0을 되돌려준다(return)\n",
    "6. y의 기본값은 10"
   ]
  },
  {
   "cell_type": "code",
   "execution_count": 30,
   "metadata": {},
   "outputs": [
    {
     "name": "stdout",
     "output_type": "stream",
     "text": [
      "0\n",
      "None\n",
      "7\n",
      "None\n",
      "6\n",
      "None\n"
     ]
    }
   ],
   "source": [
    "def func_6(x, y=10):\n",
    "    if x > y:\n",
    "        print (x - y)\n",
    "    elif x < y:\n",
    "        print (x + y)\n",
    "    else:\n",
    "        print (0)\n",
    "\n",
    "print(func_6(10))\n",
    "print(func_6(10, 3))\n",
    "print(func_6(1, 5))\n",
    "\n",
    "## 함수를 실행하고 print를 하면 None이라는 값이 출력.\n",
    "## 이유는? -> func_6(10) 호출 -> else: 구문에 있는 print (0) 실행 -> 반환은?? \n",
    "# -> 반환되는 값이 존재 하지 않는다. 왜냐? return 구문이 없기 때문에 \n",
    "# 출력의 첫줄은 함수 안에 있는 print가 출력 / 2번째 줄에 있는 None은 함수 실행하면서 print하는 부분"
   ]
  },
  {
   "cell_type": "markdown",
   "metadata": {},
   "source": [
    "1. 함수를 하나 생성.(func_7())\n",
    "2. 매개변수 1개 \n",
    "3. 구구단을 출력을 하는 함수인데 인자값에 단의 수\n",
    "4. print()로 구현"
   ]
  },
  {
   "cell_type": "code",
   "execution_count": 34,
   "metadata": {},
   "outputs": [
    {
     "name": "stdout",
     "output_type": "stream",
     "text": [
      "5 X 1 = 5\n",
      "5 X 2 = 10\n",
      "5 X 3 = 15\n",
      "5 X 4 = 20\n",
      "5 X 5 = 25\n",
      "5 X 6 = 30\n",
      "5 X 7 = 35\n",
      "5 X 8 = 40\n",
      "5 X 9 = 45\n"
     ]
    }
   ],
   "source": [
    "def func_7(x):\n",
    "    for i in range(1, 10, 1):\n",
    "        # print(\"%d X %d = %d\" %(x, i, x *i))\n",
    "        print(f'{x} X {i} = {x*i}')     ##f-string 사용법 {변수}를 사용하면 변수의 값을 넣어준다. \n",
    "\n",
    "func_7(5)"
   ]
  },
  {
   "cell_type": "code",
   "execution_count": null,
   "metadata": {},
   "outputs": [],
   "source": []
  }
 ],
 "metadata": {
  "interpreter": {
   "hash": "187f19b7e1a6c9dce315ccb3b0d07c5b7aeed6681cd1ee8ee772db2198b62651"
  },
  "kernelspec": {
   "display_name": "Python 3.6.8 64-bit",
   "language": "python",
   "name": "python3"
  },
  "language_info": {
   "codemirror_mode": {
    "name": "ipython",
    "version": 3
   },
   "file_extension": ".py",
   "mimetype": "text/x-python",
   "name": "python",
   "nbconvert_exporter": "python",
   "pygments_lexer": "ipython3",
   "version": "3.6.8"
  },
  "orig_nbformat": 4
 },
 "nbformat": 4,
 "nbformat_minor": 2
}
