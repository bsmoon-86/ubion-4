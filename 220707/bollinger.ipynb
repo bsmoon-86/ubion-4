{
 "cells": [
  {
   "cell_type": "code",
   "execution_count": 1,
   "metadata": {},
   "outputs": [],
   "source": [
    "import pandas as pd"
   ]
  },
  {
   "cell_type": "code",
   "execution_count": null,
   "metadata": {},
   "outputs": [],
   "source": [
    "df = pd.read_csv(\"./csv/AMZN.csv\")\n",
    "df.head()"
   ]
  },
  {
   "cell_type": "code",
   "execution_count": null,
   "metadata": {},
   "outputs": [],
   "source": [
    "price_df = df.loc[:, [\"Date\", \"Adj Close\"]].copy()\n",
    "price_df.head()"
   ]
  },
  {
   "cell_type": "code",
   "execution_count": null,
   "metadata": {},
   "outputs": [],
   "source": [
    "## Date 컬럼 인덱스 변환\n",
    "price_df.set_index([\"Date\"], inplace=True)\n",
    "price_df.head()"
   ]
  },
  {
   "cell_type": "code",
   "execution_count": null,
   "metadata": {},
   "outputs": [],
   "source": [
    "## 이동 평균선 구하기 -> 데이터양 20개의 평균을 구해서 컬럼에 대입\n",
    "price_df[\"center\"] = price_df[\"Adj Close\"].rolling(20).mean()\n",
    "price_df.head(25)"
   ]
  },
  {
   "cell_type": "code",
   "execution_count": null,
   "metadata": {},
   "outputs": [],
   "source": [
    "# 상단 밴드 생성 ( 이동 평균선 + 2 *표준편차 )\n",
    "price_df[\"ub\"] = price_df['center'] + 2 * price_df[\"Adj Close\"].rolling(20).std()\n",
    "price_df.iloc[18:25]"
   ]
  },
  {
   "cell_type": "code",
   "execution_count": null,
   "metadata": {},
   "outputs": [],
   "source": [
    "# 하단 밴드 생성 ( 이동 평균선 - 2 * 표준편차 )\n",
    "price_df[\"lb\"] = price_df['center'] - 2 * price_df[\"Adj Close\"].rolling(20).std()\n",
    "price_df.iloc[18:25]"
   ]
  },
  {
   "cell_type": "code",
   "execution_count": 10,
   "metadata": {},
   "outputs": [],
   "source": [
    "## 이동 평균선과 상단 밴드, 하단 밴드 구하는 함수를 생성\n",
    "## 함수에 매개변수는 dataframe이 들어가는 매개변수 1개, \n",
    "## 평균선을 그릴때 데이터의 갯수가 담기는 매개변수 1개\n",
    "\n",
    "def bollinger(data, n):\n",
    "    df = data.loc[:, [\"Date\", \"Adj Close\"]].copy()\n",
    "    df.set_index([\"Date\"], inplace=True)\n",
    "    df[\"center\"] = df[\"Adj Close\"].rolling(n).mean()\n",
    "    df[\"ub\"] = df[\"center\"] + 2 * df[\"Adj Close\"].rolling(n).std()\n",
    "    df[\"lb\"] = df[\"center\"] - 2 * df[\"Adj Close\"].rolling(n).std()\n",
    "    return df"
   ]
  },
  {
   "cell_type": "code",
   "execution_count": 11,
   "metadata": {},
   "outputs": [],
   "source": [
    "test = pd.read_csv(\"./csv/AAPL.csv\")"
   ]
  },
  {
   "cell_type": "code",
   "execution_count": null,
   "metadata": {},
   "outputs": [],
   "source": [
    "bollinger(test, 20)"
   ]
  },
  {
   "cell_type": "code",
   "execution_count": 14,
   "metadata": {},
   "outputs": [],
   "source": [
    "bollinger_data = bollinger(df, 20)"
   ]
  },
  {
   "cell_type": "code",
   "execution_count": 15,
   "metadata": {},
   "outputs": [],
   "source": [
    "# 기준일 지정\n",
    "start_time = \"2008-01-02\""
   ]
  },
  {
   "cell_type": "code",
   "execution_count": null,
   "metadata": {},
   "outputs": [],
   "source": [
    "sample = bollinger_data.loc[start_time:]\n",
    "sample.head()"
   ]
  },
  {
   "cell_type": "code",
   "execution_count": null,
   "metadata": {},
   "outputs": [],
   "source": [
    "## 거래 내역 데이터프레임 생성\n",
    "book = sample[[\"Adj Close\"]].copy()\n",
    "book"
   ]
  },
  {
   "cell_type": "code",
   "execution_count": null,
   "metadata": {},
   "outputs": [],
   "source": [
    "## 비어있는 컬럼 추가\n",
    "book['trade'] = \"\"\n",
    "book.head()"
   ]
  },
  {
   "cell_type": "code",
   "execution_count": 19,
   "metadata": {},
   "outputs": [],
   "source": [
    "## 거래 내역 데이터프레임을 생성하는 함수 생성\n",
    "## 매개변수는 1개 dataframe이 들어가는 변수 1개\n",
    "\n",
    "def create_trade_book(data):\n",
    "    book = data[[\"Adj Close\"]].copy()\n",
    "    book[\"trade\"] = \"\"\n",
    "    return book"
   ]
  },
  {
   "cell_type": "code",
   "execution_count": null,
   "metadata": {},
   "outputs": [],
   "source": [
    "book = create_trade_book(sample)\n",
    "book.head()"
   ]
  },
  {
   "cell_type": "code",
   "execution_count": 27,
   "metadata": {},
   "outputs": [],
   "source": [
    "## 구매 내역 데이터를 삽입\n",
    "## 조건 : 상단 밴드보다 종가가 높은 경우\n",
    "##          구매 상태이면\n",
    "##              매도  trade = \"\"\n",
    "##          구매 상태가 아니면 \n",
    "##              아무 행동도 하지 않는다. trade = \"\" \n",
    "##        하단 밴드보다 낮은 경우\n",
    "##          구매 상태이면\n",
    "##              구매 상태를 유지 trade = \"buy\"\n",
    "##          구매 상태가 아니면\n",
    "##              구매 trade = \"buy\"\n",
    "##        상단 과 하단 밴드 사이에 종가가 존재하면\n",
    "##          구매 상태이면\n",
    "##              구매 유지 trade = \"buy\"\n",
    "##          구매 상태가 아니면\n",
    "##              아무 행동도 하지 않는다. trade = \"\"\n",
    "\n",
    "def trade(data, book):          ## data에는 상단, 하단 밴드 수치가 있는 데이터프레임 삽입\n",
    "                                ## book에는 거래 내역 데이터프레임 삽입\n",
    "    for i in data.index:\n",
    "        if data.loc[i, \"Adj Close\"] > data.loc[i, \"ub\"]:    ## 종가가 상단 밴드보다 높은 경우\n",
    "            book.loc[i, \"trade\"] = \"\"\n",
    "        elif data.loc[i, \"lb\"] > data.loc[i, \"Adj Close\"]:    ## 종가가 하단 밴드보다 작은 경우\n",
    "            book.loc[i, \"trade\"] = \"buy\"\n",
    "        elif data.loc[i, \"ub\"] >= data.loc[i, \"Adj Close\"] and data.loc[i, \"Adj Close\"] >= data.loc[i, \"lb\"]:  \n",
    "            ## 상단 밴드와 하단 밴드 사이에 종가가 존재하는 경우\n",
    "            if book.shift(1).loc[i, \"trade\"] == \"buy\":    ## 구매 상태인 경우\n",
    "                book.loc[i, \"trade\"] = \"buy\"\n",
    "            else:\n",
    "                book.loc[i, \"trade\"] = \"\"\n",
    "\n",
    "    return book\n",
    "  "
   ]
  },
  {
   "cell_type": "code",
   "execution_count": 28,
   "metadata": {},
   "outputs": [
    {
     "data": {
      "text/html": [
       "<div>\n",
       "<style scoped>\n",
       "    .dataframe tbody tr th:only-of-type {\n",
       "        vertical-align: middle;\n",
       "    }\n",
       "\n",
       "    .dataframe tbody tr th {\n",
       "        vertical-align: top;\n",
       "    }\n",
       "\n",
       "    .dataframe thead th {\n",
       "        text-align: right;\n",
       "    }\n",
       "</style>\n",
       "<table border=\"1\" class=\"dataframe\">\n",
       "  <thead>\n",
       "    <tr style=\"text-align: right;\">\n",
       "      <th></th>\n",
       "      <th>Adj Close</th>\n",
       "      <th>trade</th>\n",
       "    </tr>\n",
       "    <tr>\n",
       "      <th>Date</th>\n",
       "      <th></th>\n",
       "      <th></th>\n",
       "    </tr>\n",
       "  </thead>\n",
       "  <tbody>\n",
       "    <tr>\n",
       "      <th>2019-06-18</th>\n",
       "      <td>1901.369995</td>\n",
       "      <td>buy</td>\n",
       "    </tr>\n",
       "    <tr>\n",
       "      <th>2019-06-19</th>\n",
       "      <td>1908.790039</td>\n",
       "      <td>buy</td>\n",
       "    </tr>\n",
       "    <tr>\n",
       "      <th>2019-06-20</th>\n",
       "      <td>1918.189941</td>\n",
       "      <td>buy</td>\n",
       "    </tr>\n",
       "    <tr>\n",
       "      <th>2019-06-21</th>\n",
       "      <td>1911.300049</td>\n",
       "      <td>buy</td>\n",
       "    </tr>\n",
       "    <tr>\n",
       "      <th>2019-06-24</th>\n",
       "      <td>1907.953857</td>\n",
       "      <td>buy</td>\n",
       "    </tr>\n",
       "  </tbody>\n",
       "</table>\n",
       "</div>"
      ],
      "text/plain": [
       "              Adj Close trade\n",
       "Date                         \n",
       "2019-06-18  1901.369995   buy\n",
       "2019-06-19  1908.790039   buy\n",
       "2019-06-20  1918.189941   buy\n",
       "2019-06-21  1911.300049   buy\n",
       "2019-06-24  1907.953857   buy"
      ]
     },
     "execution_count": 28,
     "metadata": {},
     "output_type": "execute_result"
    }
   ],
   "source": [
    "trade_book = trade(sample, book)\n",
    "trade_book.tail()"
   ]
  },
  {
   "cell_type": "code",
   "execution_count": 29,
   "metadata": {},
   "outputs": [],
   "source": [
    "## 손익 계산\n",
    "def returns(book):\n",
    "    rtn = 1.0\n",
    "    book[\"return\"] = 1\n",
    "    buy = 0.0\n",
    "    sell = 0.0\n",
    "    for i in book.index:\n",
    "        if book.loc[i, \"trade\"] == \"buy\" and book.shift(1).loc[i, \"trade\"] == \"\":   ## 구매한 시기\n",
    "            buy = book.loc[i, \"Adj Close\"]\n",
    "            print(\"진입일 : \", i , \"진입 가격 : \", buy)\n",
    "        elif book.loc[i, \"trade\"] == \"\" and book.shift(1).loc[i, \"trade\"] == \"buy\": ## 매도한 시기\n",
    "            sell = book.loc[i, \"Adj Close\"]\n",
    "            rtn = (sell - buy) / buy + 1 # 손익 계산\n",
    "            book.loc[i, \"return\"] = rtn\n",
    "            print(\"청산일 : \", i, \"진입 가격 : \", buy, \"청산 가격 : \", sell, \" | return : \", round(rtn, 4))\n",
    "        if book.loc[i, \"trade\"] == \"\":      ## buy, sell 초기화\n",
    "            buy = 0.0\n",
    "            sell = 0.0\n",
    "    acc_rtn = 1.0\n",
    "    for i in book.index:\n",
    "        rtn = book.loc[i, \"return\"]\n",
    "        acc_rtn = acc_rtn * rtn  ## 누적 수익률 계산\n",
    "        book.loc[i, \"acc_rtn\"] = acc_rtn    ##누적 수익률 컬럼 생성\n",
    "    print(\"누적 수익률 : \", round(acc_rtn, 4))\n",
    "    return (round(acc_rtn, 4))   "
   ]
  },
  {
   "cell_type": "code",
   "execution_count": 30,
   "metadata": {},
   "outputs": [
    {
     "name": "stdout",
     "output_type": "stream",
     "text": [
      "진입일 :  2008-01-11 진입 가격 :  81.08000200000001\n",
      "청산일 :  2008-03-24 진입 가격 :  81.08000200000001 청산 가격 :  75.949997  | return :  0.9367\n",
      "진입일 :  2008-06-27 진입 가격 :  74.660004\n",
      "청산일 :  2008-07-24 진입 가격 :  74.660004 청산 가격 :  78.720001  | return :  1.0544\n",
      "진입일 :  2008-09-17 진입 가격 :  71.540001\n",
      "청산일 :  2008-12-08 진입 가격 :  71.540001 청산 가격 :  51.41  | return :  0.7186\n",
      "진입일 :  2009-05-13 진입 가격 :  74.190002\n",
      "청산일 :  2009-06-01 진입 가격 :  74.190002 청산 가격 :  83.050003  | return :  1.1194\n",
      "진입일 :  2009-07-07 진입 가격 :  75.629997\n",
      "청산일 :  2009-07-20 진입 가격 :  75.629997 청산 가격 :  88.230003  | return :  1.1666\n",
      "진입일 :  2009-08-31 진입 가격 :  81.190002\n",
      "청산일 :  2009-09-16 진입 가격 :  81.190002 청산 가격 :  90.699997  | return :  1.1171\n",
      "진입일 :  2010-05-04 진입 가격 :  129.830002\n",
      "청산일 :  2010-08-04 진입 가격 :  129.830002 청산 가격 :  127.58000200000001  | return :  0.9827\n",
      "진입일 :  2010-11-16 진입 가격 :  157.779999\n",
      "청산일 :  2010-11-24 진입 가격 :  157.779999 청산 가격 :  177.25  | return :  1.1234\n",
      "진입일 :  2011-01-21 진입 가격 :  177.419998\n",
      "청산일 :  2011-03-30 진입 가격 :  177.419998 청산 가격 :  179.419998  | return :  1.0113\n",
      "진입일 :  2011-06-06 진입 가격 :  185.690002\n",
      "청산일 :  2011-06-27 진입 가격 :  185.690002 청산 가격 :  201.25  | return :  1.0838\n",
      "진입일 :  2011-08-04 진입 가격 :  201.479996\n",
      "청산일 :  2011-10-14 진입 가격 :  201.479996 청산 가격 :  246.710007  | return :  1.2245\n",
      "진입일 :  2011-10-26 진입 가격 :  198.399994\n",
      "청산일 :  2012-01-18 진입 가격 :  198.399994 청산 가격 :  189.440002  | return :  0.9548\n",
      "진입일 :  2012-10-10 진입 가격 :  244.99000499999997\n",
      "청산일 :  2012-11-29 진입 가격 :  244.99000499999997 청산 가격 :  251.270004  | return :  1.0256\n",
      "진입일 :  2013-04-29 진입 가격 :  249.74000499999997\n",
      "청산일 :  2013-06-07 진입 가격 :  249.74000499999997 청산 가격 :  276.869995  | return :  1.1086\n",
      "진입일 :  2013-08-14 진입 가격 :  291.339996\n",
      "청산일 :  2013-09-18 진입 가격 :  291.339996 청산 가격 :  312.02999900000003  | return :  1.071\n",
      "진입일 :  2014-01-24 진입 가격 :  387.600006\n",
      "청산일 :  2014-03-05 진입 가격 :  387.600006 청산 가격 :  372.369995  | return :  0.9607\n",
      "진입일 :  2014-03-24 진입 가격 :  351.850006\n",
      "청산일 :  2014-06-05 진입 가격 :  351.850006 청산 가격 :  323.570007  | return :  0.9196\n",
      "진입일 :  2014-09-15 진입 가격 :  323.890015\n",
      "청산일 :  2014-11-14 진입 가격 :  323.890015 청산 가격 :  327.820007  | return :  1.0121\n",
      "진입일 :  2015-01-15 진입 가격 :  286.950012\n",
      "청산일 :  2015-01-30 진입 가격 :  286.950012 청산 가격 :  354.52999900000003  | return :  1.2355\n",
      "진입일 :  2015-03-10 진입 가격 :  369.51001\n",
      "청산일 :  2015-04-08 진입 가격 :  369.51001 청산 가격 :  381.200012  | return :  1.0316\n",
      "진입일 :  2015-08-20 진입 가격 :  515.780029\n",
      "청산일 :  2015-10-23 진입 가격 :  515.780029 청산 가격 :  599.030029  | return :  1.1614\n",
      "진입일 :  2015-12-11 진입 가격 :  640.150024\n",
      "청산일 :  2015-12-29 진입 가격 :  640.150024 청산 가격 :  693.969971  | return :  1.0841\n",
      "진입일 :  2016-01-04 진입 가격 :  636.98999\n",
      "청산일 :  2016-03-29 진입 가격 :  636.98999 청산 가격 :  593.8599849999999  | return :  0.9323\n",
      "진입일 :  2016-06-24 진입 가격 :  698.960022\n",
      "청산일 :  2016-07-06 진입 가격 :  698.960022 청산 가격 :  737.6099849999999  | return :  1.0553\n",
      "진입일 :  2016-10-28 진입 가격 :  776.320007\n",
      "청산일 :  2017-01-06 진입 가격 :  776.320007 청산 가격 :  795.98999  | return :  1.0253\n",
      "진입일 :  2017-08-10 진입 가격 :  956.919983\n",
      "청산일 :  2017-09-13 진입 가격 :  956.919983 청산 가격 :  999.599976  | return :  1.0446\n",
      "진입일 :  2017-09-25 진입 가격 :  939.7899779999999\n",
      "청산일 :  2017-10-27 진입 가격 :  939.7899779999999 청산 가격 :  1100.949951  | return :  1.1715\n",
      "진입일 :  2018-03-28 진입 가격 :  1431.420044\n",
      "청산일 :  2018-06-01 진입 가격 :  1431.420044 청산 가격 :  1641.540039  | return :  1.1468\n",
      "진입일 :  2018-10-08 진입 가격 :  1864.4200440000002\n",
      "청산일 :  2019-03-01 진입 가격 :  1864.4200440000002 청산 가격 :  1671.72998  | return :  0.8966\n",
      "진입일 :  2019-05-13 진입 가격 :  1822.680054\n",
      "누적 수익률 :  3.2493\n"
     ]
    },
    {
     "data": {
      "text/plain": [
       "3.2493"
      ]
     },
     "execution_count": 30,
     "metadata": {},
     "output_type": "execute_result"
    }
   ],
   "source": [
    "returns(trade_book)"
   ]
  },
  {
   "cell_type": "code",
   "execution_count": 37,
   "metadata": {},
   "outputs": [
    {
     "data": {
      "text/plain": [
       "<module 'bollinger' from 'c:\\\\Users\\\\moons\\\\Documents\\\\GitHub\\\\ubion-4\\\\220707\\\\bollinger.py'>"
      ]
     },
     "execution_count": 37,
     "metadata": {},
     "output_type": "execute_result"
    }
   ],
   "source": [
    "import bollinger as blg \n",
    "import imp\n",
    "imp.reload(blg)"
   ]
  },
  {
   "cell_type": "code",
   "execution_count": 32,
   "metadata": {},
   "outputs": [
    {
     "data": {
      "text/html": [
       "<div>\n",
       "<style scoped>\n",
       "    .dataframe tbody tr th:only-of-type {\n",
       "        vertical-align: middle;\n",
       "    }\n",
       "\n",
       "    .dataframe tbody tr th {\n",
       "        vertical-align: top;\n",
       "    }\n",
       "\n",
       "    .dataframe thead th {\n",
       "        text-align: right;\n",
       "    }\n",
       "</style>\n",
       "<table border=\"1\" class=\"dataframe\">\n",
       "  <thead>\n",
       "    <tr style=\"text-align: right;\">\n",
       "      <th></th>\n",
       "      <th>Open</th>\n",
       "      <th>High</th>\n",
       "      <th>Low</th>\n",
       "      <th>Close</th>\n",
       "      <th>Volume</th>\n",
       "      <th>Change</th>\n",
       "    </tr>\n",
       "    <tr>\n",
       "      <th>Date</th>\n",
       "      <th></th>\n",
       "      <th></th>\n",
       "      <th></th>\n",
       "      <th></th>\n",
       "      <th></th>\n",
       "      <th></th>\n",
       "    </tr>\n",
       "  </thead>\n",
       "  <tbody>\n",
       "    <tr>\n",
       "      <th>2010-01-04</th>\n",
       "      <td>93424</td>\n",
       "      <td>94424</td>\n",
       "      <td>92423</td>\n",
       "      <td>94224</td>\n",
       "      <td>16684</td>\n",
       "      <td>0.008563</td>\n",
       "    </tr>\n",
       "    <tr>\n",
       "      <th>2010-01-05</th>\n",
       "      <td>93324</td>\n",
       "      <td>94224</td>\n",
       "      <td>91523</td>\n",
       "      <td>91524</td>\n",
       "      <td>9988</td>\n",
       "      <td>-0.028655</td>\n",
       "    </tr>\n",
       "    <tr>\n",
       "      <th>2010-01-06</th>\n",
       "      <td>91123</td>\n",
       "      <td>91423</td>\n",
       "      <td>86022</td>\n",
       "      <td>86022</td>\n",
       "      <td>41732</td>\n",
       "      <td>-0.060115</td>\n",
       "    </tr>\n",
       "    <tr>\n",
       "      <th>2010-01-07</th>\n",
       "      <td>86722</td>\n",
       "      <td>87722</td>\n",
       "      <td>84121</td>\n",
       "      <td>84122</td>\n",
       "      <td>30516</td>\n",
       "      <td>-0.022087</td>\n",
       "    </tr>\n",
       "    <tr>\n",
       "      <th>2010-01-08</th>\n",
       "      <td>84521</td>\n",
       "      <td>85421</td>\n",
       "      <td>82321</td>\n",
       "      <td>82821</td>\n",
       "      <td>18959</td>\n",
       "      <td>-0.015466</td>\n",
       "    </tr>\n",
       "  </tbody>\n",
       "</table>\n",
       "</div>"
      ],
      "text/plain": [
       "             Open   High    Low  Close  Volume    Change\n",
       "Date                                                    \n",
       "2010-01-04  93424  94424  92423  94224   16684  0.008563\n",
       "2010-01-05  93324  94224  91523  91524    9988 -0.028655\n",
       "2010-01-06  91123  91423  86022  86022   41732 -0.060115\n",
       "2010-01-07  86722  87722  84121  84122   30516 -0.022087\n",
       "2010-01-08  84521  85421  82321  82821   18959 -0.015466"
      ]
     },
     "execution_count": 32,
     "metadata": {},
     "output_type": "execute_result"
    }
   ],
   "source": [
    "import FinanceDataReader as fdr\n",
    "df_finance = fdr.DataReader(\"090430\", \"2010-01-02\", \"2018-12-31\")\n",
    "df_finance.head()"
   ]
  },
  {
   "cell_type": "code",
   "execution_count": null,
   "metadata": {},
   "outputs": [],
   "source": [
    "f_sample = blg.bollinger(df_finance, 20)\n",
    "f_sample"
   ]
  },
  {
   "cell_type": "code",
   "execution_count": null,
   "metadata": {},
   "outputs": [],
   "source": [
    "f_book = blg.create_trade_book(f_sample)\n",
    "f_book.head()"
   ]
  },
  {
   "cell_type": "code",
   "execution_count": null,
   "metadata": {},
   "outputs": [],
   "source": [
    "f_book = blg.trade(f_sample, f_book)\n",
    "f_book.tail()"
   ]
  },
  {
   "cell_type": "code",
   "execution_count": 43,
   "metadata": {},
   "outputs": [
    {
     "name": "stdout",
     "output_type": "stream",
     "text": [
      "진입일 :  2010-02-10 00:00:00 진입 가격 :  76720\n",
      "청산일 :  2010-03-12 00:00:00 진입 가격 :  76720 청산 가격 :  83121  | return :  1.0834\n",
      "진입일 :  2010-04-05 00:00:00 진입 가격 :  78820\n",
      "청산일 :  2010-05-07 00:00:00 진입 가격 :  78820 청산 가격 :  88023  | return :  1.1168\n",
      "진입일 :  2010-07-07 00:00:00 진입 가격 :  94824\n",
      "청산일 :  2010-08-05 00:00:00 진입 가격 :  94824 청산 가격 :  104827  | return :  1.1055\n",
      "진입일 :  2010-10-08 00:00:00 진입 가격 :  103527\n",
      "청산일 :  2010-11-03 00:00:00 진입 가격 :  103527 청산 가격 :  108928  | return :  1.0522\n",
      "진입일 :  2011-02-08 00:00:00 진입 가격 :  98625\n",
      "청산일 :  2011-04-15 00:00:00 진입 가격 :  98625 청산 가격 :  109028  | return :  1.1055\n",
      "진입일 :  2011-08-03 00:00:00 진입 가격 :  114730\n",
      "청산일 :  2011-10-05 00:00:00 진입 가격 :  114730 청산 가격 :  125032  | return :  1.0898\n",
      "진입일 :  2011-11-11 00:00:00 진입 가격 :  112829\n",
      "청산일 :  2012-02-23 00:00:00 진입 가격 :  112829 청산 가격 :  106327  | return :  0.9424\n",
      "진입일 :  2012-04-10 00:00:00 진입 가격 :  108428\n",
      "청산일 :  2012-08-21 00:00:00 진입 가격 :  108428 청산 가격 :  107028  | return :  0.9871\n",
      "진입일 :  2013-01-10 00:00:00 진입 가격 :  117530\n",
      "청산일 :  2013-05-14 00:00:00 진입 가격 :  117530 청산 가격 :  94024  | return :  0.8\n",
      "진입일 :  2013-08-09 00:00:00 진입 가격 :  90623\n",
      "청산일 :  2013-09-10 00:00:00 진입 가격 :  90623 청산 가격 :  93424  | return :  1.0309\n",
      "진입일 :  2013-10-17 00:00:00 진입 가격 :  86222\n",
      "청산일 :  2013-11-15 00:00:00 진입 가격 :  86222 청산 가격 :  90523  | return :  1.0499\n",
      "진입일 :  2015-01-07 00:00:00 진입 가격 :  214455\n",
      "청산일 :  2015-01-20 00:00:00 진입 가격 :  214455 청산 가격 :  245063  | return :  1.1427\n",
      "진입일 :  2015-08-12 00:00:00 진입 가격 :  376000\n",
      "청산일 :  2015-11-03 00:00:00 진입 가격 :  376000 청산 가격 :  399500  | return :  1.0625\n",
      "진입일 :  2016-01-14 00:00:00 진입 가격 :  392000\n",
      "청산일 :  2016-03-16 00:00:00 진입 가격 :  392000 청산 가격 :  390500  | return :  0.9962\n",
      "진입일 :  2016-07-25 00:00:00 진입 가격 :  403500\n",
      "청산일 :  2016-09-02 00:00:00 진입 가격 :  403500 청산 가격 :  406000  | return :  1.0062\n",
      "진입일 :  2016-10-07 00:00:00 진입 가격 :  359500\n",
      "청산일 :  2016-11-10 00:00:00 진입 가격 :  359500 청산 가격 :  380000  | return :  1.057\n",
      "진입일 :  2016-11-21 00:00:00 진입 가격 :  333000\n",
      "청산일 :  2017-04-19 00:00:00 진입 가격 :  333000 청산 가격 :  296000  | return :  0.8889\n",
      "진입일 :  2017-06-08 00:00:00 진입 가격 :  329500\n",
      "청산일 :  2017-08-24 00:00:00 진입 가격 :  329500 청산 가격 :  295000  | return :  0.8953\n",
      "진입일 :  2017-09-08 00:00:00 진입 가격 :  267500\n",
      "청산일 :  2017-10-16 00:00:00 진입 가격 :  267500 청산 가격 :  285000  | return :  1.0654\n",
      "진입일 :  2018-02-07 00:00:00 진입 가격 :  281500\n",
      "청산일 :  2018-03-12 00:00:00 진입 가격 :  281500 청산 가격 :  308000  | return :  1.0941\n",
      "진입일 :  2018-05-15 00:00:00 진입 가격 :  323500\n",
      "청산일 :  2018-12-12 00:00:00 진입 가격 :  323500 청산 가격 :  188500  | return :  0.5827\n",
      "누적 수익률 :  0.9496\n"
     ]
    },
    {
     "data": {
      "text/plain": [
       "0.9496"
      ]
     },
     "execution_count": 43,
     "metadata": {},
     "output_type": "execute_result"
    }
   ],
   "source": [
    "blg.returns(f_book)"
   ]
  },
  {
   "cell_type": "code",
   "execution_count": null,
   "metadata": {},
   "outputs": [],
   "source": []
  }
 ],
 "metadata": {
  "kernelspec": {
   "display_name": "Python 3.6.8 64-bit",
   "language": "python",
   "name": "python3"
  },
  "language_info": {
   "codemirror_mode": {
    "name": "ipython",
    "version": 3
   },
   "file_extension": ".py",
   "mimetype": "text/x-python",
   "name": "python",
   "nbconvert_exporter": "python",
   "pygments_lexer": "ipython3",
   "version": "3.6.8"
  },
  "orig_nbformat": 4,
  "vscode": {
   "interpreter": {
    "hash": "187f19b7e1a6c9dce315ccb3b0d07c5b7aeed6681cd1ee8ee772db2198b62651"
   }
  }
 },
 "nbformat": 4,
 "nbformat_minor": 2
}
