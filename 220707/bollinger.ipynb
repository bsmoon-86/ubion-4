{
 "cells": [
  {
   "cell_type": "code",
   "execution_count": 1,
   "metadata": {},
   "outputs": [],
   "source": [
    "import pandas as pd"
   ]
  },
  {
   "cell_type": "code",
   "execution_count": null,
   "metadata": {},
   "outputs": [],
   "source": [
    "df = pd.read_csv(\"./csv/AMZN.csv\")\n",
    "df.head()"
   ]
  },
  {
   "cell_type": "code",
   "execution_count": null,
   "metadata": {},
   "outputs": [],
   "source": [
    "price_df = df.loc[:, [\"Date\", \"Adj Close\"]].copy()\n",
    "price_df.head()"
   ]
  },
  {
   "cell_type": "code",
   "execution_count": null,
   "metadata": {},
   "outputs": [],
   "source": [
    "## Date 컬럼 인덱스 변환\n",
    "price_df.set_index([\"Date\"], inplace=True)\n",
    "price_df.head()"
   ]
  },
  {
   "cell_type": "code",
   "execution_count": null,
   "metadata": {},
   "outputs": [],
   "source": [
    "## 이동 평균선 구하기 -> 데이터양 20개의 평균을 구해서 컬럼에 대입\n",
    "price_df[\"center\"] = price_df[\"Adj Close\"].rolling(20).mean()\n",
    "price_df.head(25)"
   ]
  },
  {
   "cell_type": "code",
   "execution_count": null,
   "metadata": {},
   "outputs": [],
   "source": [
    "# 상단 밴드 생성 ( 이동 평균선 + 2 *표준편차 )\n",
    "price_df[\"ub\"] = price_df['center'] + 2 * price_df[\"Adj Close\"].rolling(20).std()\n",
    "price_df.iloc[18:25]"
   ]
  },
  {
   "cell_type": "code",
   "execution_count": null,
   "metadata": {},
   "outputs": [],
   "source": [
    "# 하단 밴드 생성 ( 이동 평균선 - 2 * 표준편차 )\n",
    "price_df[\"lb\"] = price_df['center'] - 2 * price_df[\"Adj Close\"].rolling(20).std()\n",
    "price_df.iloc[18:25]"
   ]
  },
  {
   "cell_type": "code",
   "execution_count": 10,
   "metadata": {},
   "outputs": [],
   "source": [
    "## 이동 평균선과 상단 밴드, 하단 밴드 구하는 함수를 생성\n",
    "## 함수에 매개변수는 dataframe이 들어가는 매개변수 1개, \n",
    "## 평균선을 그릴때 데이터의 갯수가 담기는 매개변수 1개\n",
    "\n",
    "def bollinger(data, n):\n",
    "    df = data.loc[:, [\"Date\", \"Adj Close\"]].copy()\n",
    "    df.set_index([\"Date\"], inplace=True)\n",
    "    df[\"center\"] = df[\"Adj Close\"].rolling(n).mean()\n",
    "    df[\"ub\"] = df[\"center\"] + 2 * df[\"Adj Close\"].rolling(n).std()\n",
    "    df[\"lb\"] = df[\"center\"] - 2 * df[\"Adj Close\"].rolling(n).std()\n",
    "    return df"
   ]
  },
  {
   "cell_type": "code",
   "execution_count": 11,
   "metadata": {},
   "outputs": [],
   "source": [
    "test = pd.read_csv(\"./csv/AAPL.csv\")"
   ]
  },
  {
   "cell_type": "code",
   "execution_count": 12,
   "metadata": {},
   "outputs": [
    {
     "data": {
      "text/html": [
       "<div>\n",
       "<style scoped>\n",
       "    .dataframe tbody tr th:only-of-type {\n",
       "        vertical-align: middle;\n",
       "    }\n",
       "\n",
       "    .dataframe tbody tr th {\n",
       "        vertical-align: top;\n",
       "    }\n",
       "\n",
       "    .dataframe thead th {\n",
       "        text-align: right;\n",
       "    }\n",
       "</style>\n",
       "<table border=\"1\" class=\"dataframe\">\n",
       "  <thead>\n",
       "    <tr style=\"text-align: right;\">\n",
       "      <th></th>\n",
       "      <th>Adj Close</th>\n",
       "      <th>center</th>\n",
       "      <th>ub</th>\n",
       "      <th>lb</th>\n",
       "    </tr>\n",
       "    <tr>\n",
       "      <th>Date</th>\n",
       "      <th></th>\n",
       "      <th></th>\n",
       "      <th></th>\n",
       "      <th></th>\n",
       "    </tr>\n",
       "  </thead>\n",
       "  <tbody>\n",
       "    <tr>\n",
       "      <th>1980-12-12</th>\n",
       "      <td>0.410525</td>\n",
       "      <td>NaN</td>\n",
       "      <td>NaN</td>\n",
       "      <td>NaN</td>\n",
       "    </tr>\n",
       "    <tr>\n",
       "      <th>1980-12-15</th>\n",
       "      <td>0.389106</td>\n",
       "      <td>NaN</td>\n",
       "      <td>NaN</td>\n",
       "      <td>NaN</td>\n",
       "    </tr>\n",
       "    <tr>\n",
       "      <th>1980-12-16</th>\n",
       "      <td>0.360548</td>\n",
       "      <td>NaN</td>\n",
       "      <td>NaN</td>\n",
       "      <td>NaN</td>\n",
       "    </tr>\n",
       "    <tr>\n",
       "      <th>1980-12-17</th>\n",
       "      <td>0.369472</td>\n",
       "      <td>NaN</td>\n",
       "      <td>NaN</td>\n",
       "      <td>NaN</td>\n",
       "    </tr>\n",
       "    <tr>\n",
       "      <th>1980-12-18</th>\n",
       "      <td>0.380182</td>\n",
       "      <td>NaN</td>\n",
       "      <td>NaN</td>\n",
       "      <td>NaN</td>\n",
       "    </tr>\n",
       "    <tr>\n",
       "      <th>...</th>\n",
       "      <td>...</td>\n",
       "      <td>...</td>\n",
       "      <td>...</td>\n",
       "      <td>...</td>\n",
       "    </tr>\n",
       "    <tr>\n",
       "      <th>2019-06-18</th>\n",
       "      <td>198.449997</td>\n",
       "      <td>185.4325</td>\n",
       "      <td>201.032574</td>\n",
       "      <td>169.832427</td>\n",
       "    </tr>\n",
       "    <tr>\n",
       "      <th>2019-06-19</th>\n",
       "      <td>197.869995</td>\n",
       "      <td>185.9960</td>\n",
       "      <td>202.558154</td>\n",
       "      <td>169.433846</td>\n",
       "    </tr>\n",
       "    <tr>\n",
       "      <th>2019-06-20</th>\n",
       "      <td>199.460007</td>\n",
       "      <td>186.8300</td>\n",
       "      <td>204.361771</td>\n",
       "      <td>169.298229</td>\n",
       "    </tr>\n",
       "    <tr>\n",
       "      <th>2019-06-21</th>\n",
       "      <td>198.779999</td>\n",
       "      <td>187.7860</td>\n",
       "      <td>205.751400</td>\n",
       "      <td>169.820600</td>\n",
       "    </tr>\n",
       "    <tr>\n",
       "      <th>2019-06-24</th>\n",
       "      <td>199.169998</td>\n",
       "      <td>188.7960</td>\n",
       "      <td>206.944862</td>\n",
       "      <td>170.647138</td>\n",
       "    </tr>\n",
       "  </tbody>\n",
       "</table>\n",
       "<p>9715 rows × 4 columns</p>\n",
       "</div>"
      ],
      "text/plain": [
       "             Adj Close    center          ub          lb\n",
       "Date                                                    \n",
       "1980-12-12    0.410525       NaN         NaN         NaN\n",
       "1980-12-15    0.389106       NaN         NaN         NaN\n",
       "1980-12-16    0.360548       NaN         NaN         NaN\n",
       "1980-12-17    0.369472       NaN         NaN         NaN\n",
       "1980-12-18    0.380182       NaN         NaN         NaN\n",
       "...                ...       ...         ...         ...\n",
       "2019-06-18  198.449997  185.4325  201.032574  169.832427\n",
       "2019-06-19  197.869995  185.9960  202.558154  169.433846\n",
       "2019-06-20  199.460007  186.8300  204.361771  169.298229\n",
       "2019-06-21  198.779999  187.7860  205.751400  169.820600\n",
       "2019-06-24  199.169998  188.7960  206.944862  170.647138\n",
       "\n",
       "[9715 rows x 4 columns]"
      ]
     },
     "execution_count": 12,
     "metadata": {},
     "output_type": "execute_result"
    }
   ],
   "source": [
    "bollinger(test, 20)"
   ]
  },
  {
   "cell_type": "code",
   "execution_count": null,
   "metadata": {},
   "outputs": [],
   "source": []
  }
 ],
 "metadata": {
  "kernelspec": {
   "display_name": "Python 3.6.8 64-bit",
   "language": "python",
   "name": "python3"
  },
  "language_info": {
   "codemirror_mode": {
    "name": "ipython",
    "version": 3
   },
   "file_extension": ".py",
   "mimetype": "text/x-python",
   "name": "python",
   "nbconvert_exporter": "python",
   "pygments_lexer": "ipython3",
   "version": "3.6.8"
  },
  "orig_nbformat": 4,
  "vscode": {
   "interpreter": {
    "hash": "187f19b7e1a6c9dce315ccb3b0d07c5b7aeed6681cd1ee8ee772db2198b62651"
   }
  }
 },
 "nbformat": 4,
 "nbformat_minor": 2
}
