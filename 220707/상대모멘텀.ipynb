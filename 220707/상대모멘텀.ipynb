{
 "cells": [
  {
   "cell_type": "code",
   "execution_count": 1,
   "metadata": {},
   "outputs": [],
   "source": [
    "import pandas as pd\n",
    "import datetime"
   ]
  },
  {
   "cell_type": "markdown",
   "metadata": {},
   "source": [
    "## 상대모멘텀 계산\n",
    "\n",
    "절대모멘텀 부분에서 월별 수익율\n",
    "\n",
    "월별로 데이터를 묶어서 월말까지 수익율 구해서 월말로 데이터 프레임 자르는 작업\n",
    "\n",
    "월말 수익율로 pivot_table 사용하여 확인"
   ]
  },
  {
   "cell_type": "code",
   "execution_count": 2,
   "metadata": {},
   "outputs": [],
   "source": [
    "def data_preprocessing(sample, ticker, base_date):\n",
    "    sample[\"CODE\"] = ticker ## 종목코드 추가\n",
    "    sample = sample[sample[\"Date\"] >= base_date][['Date', \"CODE\", \"Adj Close\"]].copy()  ##기준 일자 이후의 데이터를 복사\n",
    "    sample.reset_index(inplace=True, drop=True)\n",
    "    #기준 년월\n",
    "    sample[\"STD_YM\"] = sample[\"Date\"].map(lambda x : datetime.datetime.strptime(x, '%Y-%m-%d')\\\n",
    "        .strftime(\"%Y-%m\"))\n",
    "    sample[\"1M_RET\"] = 0.0  ## 수익률 컬럼\n",
    "    ym_keys = list(sample[\"STD_YM\"].unique())   ## 기준년월 리스트(중복 데이터 제거)\n",
    "    return sample, ym_keys\n"
   ]
  },
  {
   "cell_type": "code",
   "execution_count": 3,
   "metadata": {},
   "outputs": [],
   "source": [
    "def create_trade_book(sample, sample_code):\n",
    "    book = sample[sample_code].copy()\n",
    "    book[\"STD_YM\"] = book.index.map(lambda x : datetime.datetime.strptime(x, '%Y-%m-%d')\\\n",
    "        .strftime(\"%Y-%m\"))\n",
    "    for i in sample_code:\n",
    "        book['p '+i] = \"\"\n",
    "        book[\"r \"+i] = \"\"\n",
    "    return book"
   ]
  },
  {
   "cell_type": "code",
   "execution_count": 5,
   "metadata": {},
   "outputs": [],
   "source": [
    "# 상대모멘텀 trading\n",
    "def trade(book, s_codes):\n",
    "    std_ym = \"\"\n",
    "    buy_phase = False\n",
    "    # 종목별로 순회\n",
    "    for i in s_codes:\n",
    "        print(i)\n",
    "        for j in book.index:\n",
    "            # 해당 종목코드 포지션 \n",
    "            if book.loc[j, \"p \"+i] == \"\" and book.shift(1).loc[j, \"p \"+i] == \"ready \" + i:\n",
    "                std_ym = book.loc[j, \"STD_YM\"]\n",
    "                buy_phase = True\n",
    "            # 해당 종목 코드에서 신호가 있으면 매수상태를 유지\n",
    "            if book.loc[j, \"p \"+i] == \"\" and book.loc[j, \"STD_YM\"] == std_ym and buy_phase == True:\n",
    "                book.loc[j, \"p \"+i] = \"buy\" + i\n",
    "\n",
    "            if book.loc[j, \"p \"+i] == \"\":       ##초기화\n",
    "                std_ym = None\n",
    "                buy_phase = False\n",
    "    return book "
   ]
  },
  {
   "cell_type": "code",
   "execution_count": 6,
   "metadata": {},
   "outputs": [],
   "source": [
    "## 손익 계산\n",
    "def multi_returns(book, s_codes):\n",
    "    rtn = 1.0\n",
    "    buy_dict = {}\n",
    "    num = len(s_codes)\n",
    "    sell_dict = {}\n",
    "\n",
    "    for i in book.index:\n",
    "        for j in s_codes:\n",
    "            if book.loc[i, \"p \"+j] == \"buy\" + j and \\\n",
    "            book.shift(1).loc[i, \"p \"+j] == \"ready\"+j and \\\n",
    "            book.shift(2).loc[i, \"p \"+j] == \"\":     #매수를 시작한 날\n",
    "                buy_dict[j] = book.loc[i, j]\n",
    "                print(\"진입일 : \", i, \"종목코드 : \", j, \"진입 가격 : \", buy_dict[j])\n",
    "            elif book.loc[i, \"p \"+j] == \"\" and \\\n",
    "            book.shift(1).loc[i, \"p \"+j] == \"buy\"+j:     #매도\n",
    "                sell_dict[j] = book.loc[i, j]\n",
    "                # 손익 계산\n",
    "                rtn = (sell_dict[j] / buy_dict[j]) - 1\n",
    "                book.loc[i, \"r \"+j] = rtn\n",
    "                print(\"개별 청산일 = \", i, \"종목 코드 : \", j, \" 진입가격 : \", buy_dict[j], \\\n",
    "                    \"매도가격 : \", sell_dict[j], \"return : \", round(rtn*100, 2))\n",
    "\n",
    "            if book.loc[i, \"p \"+j]:\n",
    "                buy_dict[j] = 0.0\n",
    "                sell_dict[j] = 0.0\n",
    "\n",
    "    acc_rtn = 1.0\n",
    "    for i in book.index:\n",
    "        rtn = 0.0\n",
    "        count = 0\n",
    "        for j in s_codes:\n",
    "            if book.loc[i, \"p \"+j] == \"\" and book.loc[i, \"p \"+j] == \"buy\"+j:\n",
    "                count += 1\n",
    "                rtn += book.loc[i, \"r \"+j]\n",
    "        if (rtn != 0.0) & (count != 0):\n",
    "            acc_rtn *= (rtn/count) + 1\n",
    "            print(\"누적 청산일 : \", i, \"청산 종목 수 : \", count, \\\n",
    "                \"청산 수익률 : \", round((rtn/count), 4), \"누적 수익률 : \", round(acc_rtn, 4))\n",
    "        book.loc[i, \"acc_rtn\"] = acc_rtn\n",
    "    print(\"누적 수익률 : \", round(acc_rtn, 4))    "
   ]
  },
  {
   "cell_type": "code",
   "execution_count": null,
   "metadata": {},
   "outputs": [],
   "source": []
  }
 ],
 "metadata": {
  "kernelspec": {
   "display_name": "Python 3.6.8 64-bit",
   "language": "python",
   "name": "python3"
  },
  "language_info": {
   "codemirror_mode": {
    "name": "ipython",
    "version": 3
   },
   "file_extension": ".py",
   "mimetype": "text/x-python",
   "name": "python",
   "nbconvert_exporter": "python",
   "pygments_lexer": "ipython3",
   "version": "3.6.8"
  },
  "orig_nbformat": 4,
  "vscode": {
   "interpreter": {
    "hash": "187f19b7e1a6c9dce315ccb3b0d07c5b7aeed6681cd1ee8ee772db2198b62651"
   }
  }
 },
 "nbformat": 4,
 "nbformat_minor": 2
}
