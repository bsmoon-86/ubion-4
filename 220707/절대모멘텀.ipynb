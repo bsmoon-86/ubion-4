{
 "cells": [
  {
   "cell_type": "code",
   "execution_count": 1,
   "metadata": {},
   "outputs": [],
   "source": [
    "import pandas as pd \n",
    "import numpy as np\n",
    "import datetime"
   ]
  },
  {
   "cell_type": "code",
   "execution_count": null,
   "metadata": {},
   "outputs": [],
   "source": [
    "read_df = pd.read_csv(\"./csv/SPY.csv\")\n",
    "read_df.head()"
   ]
  },
  {
   "cell_type": "code",
   "execution_count": null,
   "metadata": {},
   "outputs": [],
   "source": [
    "price_df = read_df.loc[:, [\"Date\", \"Adj Close\"]].copy()\n",
    "price_df.head()"
   ]
  },
  {
   "cell_type": "code",
   "execution_count": null,
   "metadata": {},
   "outputs": [],
   "source": [
    "#년월 컬럼을 생성\n",
    "price_df[\"STD_YM\"] = price_df[\"Date\"].map(lambda x : \\\n",
    "    datetime.datetime.strptime(x, '%Y-%m-%d').strftime('%Y-%m'))\n",
    "price_df.head()"
   ]
  },
  {
   "cell_type": "code",
   "execution_count": 5,
   "metadata": {},
   "outputs": [],
   "source": [
    "month_list = price_df[\"STD_YM\"].unique()"
   ]
  },
  {
   "cell_type": "code",
   "execution_count": null,
   "metadata": {},
   "outputs": [],
   "source": [
    "## 비어있는 데이터프레임 생성\n",
    "month_last_df = pd.DataFrame()\n",
    "\n",
    "for i in month_list:    ## 년월 리스트를 기준으로 반복\n",
    "    # 기준 년월에 맞는 인덱스의 가장 마지막 날짜의 데이터를 month_last_df 추가\n",
    "    month_last_df = month_last_df.append(price_df.loc\\\n",
    "        [price_df[price_df['STD_YM'] == i].index[-1], :])\n",
    "\n",
    "month_last_df.set_index(['Date'], inplace=True)\n",
    "month_last_df.head()"
   ]
  },
  {
   "cell_type": "code",
   "execution_count": null,
   "metadata": {},
   "outputs": [],
   "source": [
    "## 컬럼 2개 생성\n",
    "## 전월 종가 컬럼\n",
    "## 전년도 종가 컬럼\n",
    "\n",
    "month_last_df[\"BF_1M\"] = month_last_df.shift(1)[\"Adj Close\"]\n",
    "month_last_df[\"BF_12M\"] = month_last_df.shift(12)[\"Adj Close\"]\n",
    "month_last_df.fillna(0, inplace=True)\n",
    "month_last_df.head(15)"
   ]
  },
  {
   "cell_type": "code",
   "execution_count": null,
   "metadata": {},
   "outputs": [],
   "source": [
    "# 거래 내역 데이터프레임 생성\n",
    "book = price_df.copy()\n",
    "book.set_index(['Date'], inplace=True)\n",
    "book[\"trade\"] = \"\"\n",
    "book.head()"
   ]
  },
  {
   "cell_type": "code",
   "execution_count": null,
   "metadata": {},
   "outputs": [],
   "source": [
    "## 거래내역 추가\n",
    "\n",
    "for i in month_last_df.index:\n",
    "    signal = \"\"\n",
    "    # 절대 모멘텀 계산\n",
    "    momentum_index = month_last_df.loc[i, \"BF_1M\"] / month_last_df.loc[i, \"BF_12M\"] - 1\n",
    "    # 절대 모멘텀 지표에 따라 True / False 판단\n",
    "    flag = True if ((momentum_index > 0.0) and (momentum_index != np.inf)\\\n",
    "         and (momentum_index != -np.inf)) else False\n",
    "    if flag:\n",
    "        signal = \"buy\"\n",
    "    print(\"날짜 : \", i, '모멘텀 인덱스 : ', momentum_index, \"flag : \", flag, \"signal : \", signal)\n",
    "    book.loc[i:, \"trade\"] = signal"
   ]
  },
  {
   "cell_type": "code",
   "execution_count": null,
   "metadata": {},
   "outputs": [],
   "source": [
    "book.tail(20)"
   ]
  },
  {
   "cell_type": "code",
   "execution_count": 14,
   "metadata": {},
   "outputs": [],
   "source": [
    "## 손익 계산\n",
    "def returns(book):\n",
    "    rtn = 1.0\n",
    "    book[\"return\"] = 1\n",
    "    buy = 0.0\n",
    "    sell = 0.0\n",
    "    for i in book.index:\n",
    "        if book.loc[i, \"trade\"] == \"buy\" and book.shift(1).loc[i, \"trade\"] == \"\":   ## 구매한 시기\n",
    "            buy = book.loc[i, \"Adj Close\"]\n",
    "            print(\"진입일 : \", i , \"진입 가격 : \", buy)\n",
    "        elif book.loc[i, \"trade\"] == \"\" and book.shift(1).loc[i, \"trade\"] == \"buy\": ## 매도한 시기\n",
    "            sell = book.loc[i, \"Adj Close\"]\n",
    "            rtn = (sell - buy) / buy + 1 # 손익 계산\n",
    "            book.loc[i, \"return\"] = rtn\n",
    "            print(\"청산일 : \", i, \"진입 가격 : \", buy, \"청산 가격 : \", sell, \" | return : \", round(rtn, 4))\n",
    "        if book.loc[i, \"trade\"] == \"\":      ## buy, sell 초기화\n",
    "            buy = 0.0\n",
    "            sell = 0.0\n",
    "    acc_rtn = 1.0\n",
    "    for i in book.index:\n",
    "        rtn = book.loc[i, \"return\"]\n",
    "        acc_rtn = acc_rtn * rtn  ## 누적 수익률 계산\n",
    "        book.loc[i, \"acc_rtn\"] = acc_rtn    ##누적 수익률 컬럼 생성\n",
    "    print(\"누적 수익률 : \", round(acc_rtn, 4))\n",
    "    return (round(acc_rtn, 4)) "
   ]
  },
  {
   "cell_type": "code",
   "execution_count": 15,
   "metadata": {},
   "outputs": [
    {
     "name": "stdout",
     "output_type": "stream",
     "text": [
      "진입일 :  1994-01-31 진입 가격 :  30.045222999999996\n",
      "청산일 :  1994-12-30 진입 가격 :  30.045222999999996 청산 가격 :  29.148033  | return :  0.9701\n",
      "진입일 :  1995-02-28 진입 가격 :  31.357141\n",
      "청산일 :  2000-12-29 진입 가격 :  31.357141 청산 가격 :  92.002388  | return :  2.934\n",
      "진입일 :  2001-02-28 진입 가격 :  86.926689\n",
      "청산일 :  2001-03-30 진입 가격 :  86.926689 청산 가격 :  82.055542  | return :  0.944\n",
      "진입일 :  2003-07-31 진입 가격 :  72.26248199999999\n",
      "청산일 :  2008-02-29 진입 가격 :  72.26248199999999 청산 가격 :  105.568001  | return :  1.4609\n",
      "진입일 :  2009-10-30 진입 가격 :  85.141289\n",
      "청산일 :  2011-10-31 진입 가격 :  85.141289 청산 가격 :  107.309486  | return :  1.2604\n",
      "진입일 :  2011-11-30 진입 가격 :  106.873421\n",
      "청산일 :  2012-01-31 진입 가격 :  106.873421 청산 가격 :  112.998047  | return :  1.0573\n",
      "진입일 :  2012-02-29 진입 가격 :  117.902817\n",
      "청산일 :  2015-10-30 진입 가격 :  117.902817 청산 가격 :  193.002396  | return :  1.637\n",
      "진입일 :  2015-11-30 진입 가격 :  193.707825\n",
      "청산일 :  2016-02-29 진입 가격 :  193.707825 청산 가격 :  180.733292  | return :  0.933\n",
      "진입일 :  2016-04-29 진입 가격 :  193.650711\n",
      "청산일 :  2016-05-31 진입 가격 :  193.650711 청산 가격 :  196.945023  | return :  1.017\n",
      "진입일 :  2016-06-30 진입 가격 :  197.629578\n",
      "청산일 :  2019-01-31 진입 가격 :  197.629578 청산 가격 :  267.445465  | return :  1.3533\n",
      "진입일 :  2019-02-28 진입 가격 :  276.114929\n",
      "누적 수익률 :  10.9953\n"
     ]
    },
    {
     "data": {
      "text/plain": [
       "10.9953"
      ]
     },
     "execution_count": 15,
     "metadata": {},
     "output_type": "execute_result"
    }
   ],
   "source": [
    "returns(book)"
   ]
  },
  {
   "cell_type": "code",
   "execution_count": null,
   "metadata": {},
   "outputs": [],
   "source": []
  }
 ],
 "metadata": {
  "kernelspec": {
   "display_name": "Python 3.6.8 64-bit",
   "language": "python",
   "name": "python3"
  },
  "language_info": {
   "codemirror_mode": {
    "name": "ipython",
    "version": 3
   },
   "file_extension": ".py",
   "mimetype": "text/x-python",
   "name": "python",
   "nbconvert_exporter": "python",
   "pygments_lexer": "ipython3",
   "version": "3.6.8"
  },
  "orig_nbformat": 4,
  "vscode": {
   "interpreter": {
    "hash": "187f19b7e1a6c9dce315ccb3b0d07c5b7aeed6681cd1ee8ee772db2198b62651"
   }
  }
 },
 "nbformat": 4,
 "nbformat_minor": 2
}
